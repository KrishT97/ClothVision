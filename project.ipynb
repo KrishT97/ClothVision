{
 "cells": [
  {
   "cell_type": "code",
   "execution_count": 307,
   "outputs": [],
   "source": [
    "import time\n",
    "import warnings \n",
    "\n",
    "warnings.filterwarnings('ignore')"
   ],
   "metadata": {
    "collapsed": false,
    "ExecuteTime": {
     "end_time": "2023-11-12T22:43:57.026461200Z",
     "start_time": "2023-11-12T22:43:57.016717100Z"
    }
   },
   "id": "e82cdc8254213167"
  },
  {
   "cell_type": "code",
   "execution_count": null,
   "outputs": [],
   "source": [
    "from torchvision import transforms\n",
    "from torch.utils.data import Dataset, DataLoader, TensorDataset"
   ],
   "metadata": {
    "collapsed": false
   },
   "id": "929b4cd161ba81ec"
  },
  {
   "cell_type": "code",
   "execution_count": null,
   "outputs": [],
   "source": [
    "# Inicialización\n",
    "import torch\n",
    "\n",
    "# Get cpu, gpu or mps device for training.\n",
    "device = (\n",
    "    \"cuda\"\n",
    "    if torch.cuda.is_available()\n",
    "    else \"mps\"\n",
    "    if torch.backends.mps.is_available()\n",
    "    else \"cpu\"\n",
    ")\n",
    "print(f\"Using {device} device\")\n",
    "\n",
    "# Definición de constantes \n",
    "import os\n",
    "\n",
    "# esto es para que funcione matplotlib \n",
    "os.environ['KMP_DUPLICATE_LIB_OK'] = 'True'\n",
    "\n",
    "BATCH_SIZE = 32\n",
    "EPOCHS = 30\n",
    "IMAGE_SIZE = 28\n",
    "DATASET_DIR = './data/'\n",
    "MODELS_DIR = 'models/'"
   ],
   "metadata": {
    "collapsed": false
   },
   "id": "93a2b4e1619fdba8"
  },
  {
   "cell_type": "code",
   "execution_count": null,
   "outputs": [],
   "source": [
    "from torchvision.io import read_image\n",
    "\n",
    "sizes = []\n",
    "for image in os.listdir('./data/images/colored_labels'):\n",
    "    sizes.append(read_image(\"./data/images/colored_labels/\" + image).shape)\n",
    "print(\"Range for inputs with segmentation: \")\n",
    "print(max(sizes))\n",
    "print(min(sizes))\n",
    "\n",
    "sizes = []\n",
    "for image in os.listdir('./data/images/text_labels'):\n",
    "    sizes.append(read_image(\"./data/images/text_labels/\" + image).shape)\n",
    "print(\"Range for inputs with txt: \")\n",
    "print(max(sizes))\n",
    "print(min(sizes))\n"
   ],
   "metadata": {
    "collapsed": false
   },
   "id": "69aff29b7511fc3f"
  },
  {
   "cell_type": "markdown",
   "source": [
    "No necesito que me prediga el color exacto de cada categoría, si sabe que es un vestido, luego busco en la tabla su color y listo. \n",
    "\n",
    "Para ello, en la siguiente celda creo un codificador y decodificador de one hot a una de las clases, cada una asociada a un color:"
   ],
   "metadata": {
    "collapsed": false
   },
   "id": "89f53cea53a6721b"
  },
  {
   "cell_type": "code",
   "execution_count": 82,
   "outputs": [
    {
     "name": "stdout",
     "output_type": "stream",
     "text": [
      "one hot de nada y de accesorios devuelve segun encoder:  [['none']\n",
      " ['accessories']]\n",
      "Sus colores segun el dataframe: \n",
      "     r   g   b\n",
      "0  69   6  90\n",
      "1  70  12  95\n"
     ]
    }
   ],
   "source": [
    "import pandas as pd\n",
    "from sklearn.preprocessing import OneHotEncoder\n",
    "classes = pd.read_csv(DATASET_DIR + \"/class_dict.csv\")\n",
    "\n",
    "encoder = OneHotEncoder(sparse=False)\n",
    "\n",
    "codes = encoder.fit_transform(classes[\"class_name\"].values.reshape(-1,1))\n",
    "codigo_none = codes[0]\n",
    "codigo_accesorios = codes[1]\n",
    "\n",
    "uncoded = encoder.inverse_transform([codigo_none, codigo_accesorios])\n",
    "print(\"one hot de nada y de accesorios devuelve segun encoder: \", uncoded)\n",
    "\n",
    "print(\"Sus colores segun el dataframe: \\n\", classes[classes[\"class_name\"].isin(uncoded.flatten())][[\"r\",\"g\",\"b\"]])"
   ],
   "metadata": {
    "collapsed": false,
    "ExecuteTime": {
     "end_time": "2023-11-12T18:11:48.392485Z",
     "start_time": "2023-11-12T18:11:48.376809800Z"
    }
   },
   "id": "15c5f15bfe9d2e86"
  },
  {
   "cell_type": "markdown",
   "source": [
    "Dataset para cargar imágenes:"
   ],
   "metadata": {
    "collapsed": false
   },
   "id": "4ba0b401d0af7317"
  },
  {
   "cell_type": "code",
   "execution_count": 268,
   "outputs": [],
   "source": [
    "\n",
    "from numpy import int64\n",
    "from PIL import Image\n",
    "\n",
    "\n",
    "class CustomClothingDataset(Dataset):\n",
    "    def __init__(self, root_dir, input_dir='images/colored_labels', \n",
    "                 labels_dir='labels/pixel_level_labels_colored',\n",
    "                 transform=transforms.Compose([\n",
    "                     transforms.Resize((560,560)), #size mayor de las imagenes, para todas iguales sin perder información\n",
    "                     transforms.Lambda(lambda x: x / 255), # reescalo de 0 a 1\n",
    "                     transforms.Normalize(mean=[0.485, 0.456, 0.406], std=[0.229, 0.224, 0.225]),# normalizo\n",
    "                     #transforms.RandomHorizontalFlip() # data augmentation\n",
    "        ])\n",
    "                 ):\n",
    "                        \n",
    "        self.root_dir = root_dir\n",
    "        self.input_dir = input_dir\n",
    "        self.labels_dir = labels_dir\n",
    "        self.transform = transform\n",
    "        self.image_files = os.listdir(os.path.join(root_dir, self.input_dir))\n",
    "        self.label_files = os.listdir(os.path.join(root_dir, self.labels_dir))\n",
    "\n",
    "    def __len__(self):\n",
    "        return len(self.image_files)\n",
    "\n",
    "    def __getitem__(self, idx):\n",
    "        img_name = os.path.join(self.root_dir, self.input_dir, self.image_files[idx])\n",
    "        label_name = os.path.join(self.root_dir, self.labels_dir, self.label_files[idx])\n",
    "        if self.transform:        \n",
    "            return ((self.transform(read_image(img_name).float())), \n",
    "                (self.transform(read_image(label_name).float())))\n",
    "        else:\n",
    "            return ((read_image(img_name).float()), \n",
    "             (np.asarray(Image.open(label_name), dtype=int64)))\n"
   ],
   "metadata": {
    "collapsed": false,
    "ExecuteTime": {
     "end_time": "2023-11-12T20:32:26.473786100Z",
     "start_time": "2023-11-12T20:32:26.451046600Z"
    }
   },
   "id": "74f5cd16f04efe02"
  },
  {
   "cell_type": "markdown",
   "source": [
    "A continuación, trato de codificar una segmentación completa, pues la idea es codificarlas todas para el entrenamiento:"
   ],
   "metadata": {
    "collapsed": false
   },
   "id": "1be11495018d035"
  },
  {
   "cell_type": "code",
   "execution_count": 291,
   "outputs": [
    {
     "data": {
      "text/plain": "     class_name    r    g    b  \\\n0          none   69    6   90   \n1   accessories   70   12   95   \n2           bag   71   18  101   \n3          belt   72   25  107   \n4        blazer   72   30  112   \n5        blouse   72   35  116   \n6      bodysuit   71   40  120   \n7         boots   70   47  124   \n8           bra   69   52  127   \n9      bracelet   68   57  130   \n10         cape   66   61  132   \n11     cardigan   64   67  135   \n12        clogs   62   72  136   \n13         coat   61   76  137   \n14        dress   58   82  139   \n15     earrings   56   86  139   \n16        flats   54   90  140   \n17      glasses   52   94  141   \n18       gloves   50   99  141   \n19         hair   48  103  141   \n20          hat   46  107  142   \n21        heels   45  111  142   \n22       hoodie   43  116  142   \n23     intimate   41  120  142   \n24       jacket   40  123  142   \n25        jeans   38  127  142   \n26       jumper   36  132  141   \n27     leggings   35  136  141   \n28      loafers   34  139  141   \n29     necklace   32  144  140   \n30      panties   31  148  139   \n31        pants   30  152  138   \n32        pumps   30  155  137   \n33        purse   30  160  135   \n34         ring   32  164  133   \n35       romper   34  167  132   \n36      sandals   37  171  129   \n37        scarf   42  176  126   \n38        shirt   47  179  123   \n39        shoes   53  183  120   \n40       shorts   59  186  117   \n41         skin   68  190  112   \n42        skirt   75  194  108   \n43     sneakers   83  197  103   \n44        socks   94  201   97   \n45    stockings  103  204   92   \n46         suit  112  206   86   \n47   sunglasses  121  209   81   \n48      sweater  134  212   73   \n49   sweatshirt  144  214   67   \n50     swimwear  154  216   60   \n51      t-shirt  165  218   53   \n52          tie  178  221   44   \n53       tights  189  222   38   \n54          top  199  224   31   \n55         vest  210  225   27   \n56       wallet  223  227   24   \n57        watch  233  228   25   \n58       wedges  243  229   30   \n\n                                              One-hot     array_value  \\\n0   [0.0, 0.0, 0.0, 0.0, 0.0, 0.0, 0.0, 0.0, 0.0, ...     [69, 6, 90]   \n1   [1.0, 0.0, 0.0, 0.0, 0.0, 0.0, 0.0, 0.0, 0.0, ...    [70, 12, 95]   \n2   [0.0, 1.0, 0.0, 0.0, 0.0, 0.0, 0.0, 0.0, 0.0, ...   [71, 18, 101]   \n3   [0.0, 0.0, 1.0, 0.0, 0.0, 0.0, 0.0, 0.0, 0.0, ...   [72, 25, 107]   \n4   [0.0, 0.0, 0.0, 1.0, 0.0, 0.0, 0.0, 0.0, 0.0, ...   [72, 30, 112]   \n5   [0.0, 0.0, 0.0, 0.0, 1.0, 0.0, 0.0, 0.0, 0.0, ...   [72, 35, 116]   \n6   [0.0, 0.0, 0.0, 0.0, 0.0, 1.0, 0.0, 0.0, 0.0, ...   [71, 40, 120]   \n7   [0.0, 0.0, 0.0, 0.0, 0.0, 0.0, 1.0, 0.0, 0.0, ...   [70, 47, 124]   \n8   [0.0, 0.0, 0.0, 0.0, 0.0, 0.0, 0.0, 1.0, 0.0, ...   [69, 52, 127]   \n9   [0.0, 0.0, 0.0, 0.0, 0.0, 0.0, 0.0, 0.0, 1.0, ...   [68, 57, 130]   \n10  [0.0, 0.0, 0.0, 0.0, 0.0, 0.0, 0.0, 0.0, 0.0, ...   [66, 61, 132]   \n11  [0.0, 0.0, 0.0, 0.0, 0.0, 0.0, 0.0, 0.0, 0.0, ...   [64, 67, 135]   \n12  [0.0, 0.0, 0.0, 0.0, 0.0, 0.0, 0.0, 0.0, 0.0, ...   [62, 72, 136]   \n13  [0.0, 0.0, 0.0, 0.0, 0.0, 0.0, 0.0, 0.0, 0.0, ...   [61, 76, 137]   \n14  [0.0, 0.0, 0.0, 0.0, 0.0, 0.0, 0.0, 0.0, 0.0, ...   [58, 82, 139]   \n15  [0.0, 0.0, 0.0, 0.0, 0.0, 0.0, 0.0, 0.0, 0.0, ...   [56, 86, 139]   \n16  [0.0, 0.0, 0.0, 0.0, 0.0, 0.0, 0.0, 0.0, 0.0, ...   [54, 90, 140]   \n17  [0.0, 0.0, 0.0, 0.0, 0.0, 0.0, 0.0, 0.0, 0.0, ...   [52, 94, 141]   \n18  [0.0, 0.0, 0.0, 0.0, 0.0, 0.0, 0.0, 0.0, 0.0, ...   [50, 99, 141]   \n19  [0.0, 0.0, 0.0, 0.0, 0.0, 0.0, 0.0, 0.0, 0.0, ...  [48, 103, 141]   \n20  [0.0, 0.0, 0.0, 0.0, 0.0, 0.0, 0.0, 0.0, 0.0, ...  [46, 107, 142]   \n21  [0.0, 0.0, 0.0, 0.0, 0.0, 0.0, 0.0, 0.0, 0.0, ...  [45, 111, 142]   \n22  [0.0, 0.0, 0.0, 0.0, 0.0, 0.0, 0.0, 0.0, 0.0, ...  [43, 116, 142]   \n23  [0.0, 0.0, 0.0, 0.0, 0.0, 0.0, 0.0, 0.0, 0.0, ...  [41, 120, 142]   \n24  [0.0, 0.0, 0.0, 0.0, 0.0, 0.0, 0.0, 0.0, 0.0, ...  [40, 123, 142]   \n25  [0.0, 0.0, 0.0, 0.0, 0.0, 0.0, 0.0, 0.0, 0.0, ...  [38, 127, 142]   \n26  [0.0, 0.0, 0.0, 0.0, 0.0, 0.0, 0.0, 0.0, 0.0, ...  [36, 132, 141]   \n27  [0.0, 0.0, 0.0, 0.0, 0.0, 0.0, 0.0, 0.0, 0.0, ...  [35, 136, 141]   \n28  [0.0, 0.0, 0.0, 0.0, 0.0, 0.0, 0.0, 0.0, 0.0, ...  [34, 139, 141]   \n29  [0.0, 0.0, 0.0, 0.0, 0.0, 0.0, 0.0, 0.0, 0.0, ...  [32, 144, 140]   \n30  [0.0, 0.0, 0.0, 0.0, 0.0, 0.0, 0.0, 0.0, 0.0, ...  [31, 148, 139]   \n31  [0.0, 0.0, 0.0, 0.0, 0.0, 0.0, 0.0, 0.0, 0.0, ...  [30, 152, 138]   \n32  [0.0, 0.0, 0.0, 0.0, 0.0, 0.0, 0.0, 0.0, 0.0, ...  [30, 155, 137]   \n33  [0.0, 0.0, 0.0, 0.0, 0.0, 0.0, 0.0, 0.0, 0.0, ...  [30, 160, 135]   \n34  [0.0, 0.0, 0.0, 0.0, 0.0, 0.0, 0.0, 0.0, 0.0, ...  [32, 164, 133]   \n35  [0.0, 0.0, 0.0, 0.0, 0.0, 0.0, 0.0, 0.0, 0.0, ...  [34, 167, 132]   \n36  [0.0, 0.0, 0.0, 0.0, 0.0, 0.0, 0.0, 0.0, 0.0, ...  [37, 171, 129]   \n37  [0.0, 0.0, 0.0, 0.0, 0.0, 0.0, 0.0, 0.0, 0.0, ...  [42, 176, 126]   \n38  [0.0, 0.0, 0.0, 0.0, 0.0, 0.0, 0.0, 0.0, 0.0, ...  [47, 179, 123]   \n39  [0.0, 0.0, 0.0, 0.0, 0.0, 0.0, 0.0, 0.0, 0.0, ...  [53, 183, 120]   \n40  [0.0, 0.0, 0.0, 0.0, 0.0, 0.0, 0.0, 0.0, 0.0, ...  [59, 186, 117]   \n41  [0.0, 0.0, 0.0, 0.0, 0.0, 0.0, 0.0, 0.0, 0.0, ...  [68, 190, 112]   \n42  [0.0, 0.0, 0.0, 0.0, 0.0, 0.0, 0.0, 0.0, 0.0, ...  [75, 194, 108]   \n43  [0.0, 0.0, 0.0, 0.0, 0.0, 0.0, 0.0, 0.0, 0.0, ...  [83, 197, 103]   \n44  [0.0, 0.0, 0.0, 0.0, 0.0, 0.0, 0.0, 0.0, 0.0, ...   [94, 201, 97]   \n45  [0.0, 0.0, 0.0, 0.0, 0.0, 0.0, 0.0, 0.0, 0.0, ...  [103, 204, 92]   \n46  [0.0, 0.0, 0.0, 0.0, 0.0, 0.0, 0.0, 0.0, 0.0, ...  [112, 206, 86]   \n47  [0.0, 0.0, 0.0, 0.0, 0.0, 0.0, 0.0, 0.0, 0.0, ...  [121, 209, 81]   \n48  [0.0, 0.0, 0.0, 0.0, 0.0, 0.0, 0.0, 0.0, 0.0, ...  [134, 212, 73]   \n49  [0.0, 0.0, 0.0, 0.0, 0.0, 0.0, 0.0, 0.0, 0.0, ...  [144, 214, 67]   \n50  [0.0, 0.0, 0.0, 0.0, 0.0, 0.0, 0.0, 0.0, 0.0, ...  [154, 216, 60]   \n51  [0.0, 0.0, 0.0, 0.0, 0.0, 0.0, 0.0, 0.0, 0.0, ...  [165, 218, 53]   \n52  [0.0, 0.0, 0.0, 0.0, 0.0, 0.0, 0.0, 0.0, 0.0, ...  [178, 221, 44]   \n53  [0.0, 0.0, 0.0, 0.0, 0.0, 0.0, 0.0, 0.0, 0.0, ...  [189, 222, 38]   \n54  [0.0, 0.0, 0.0, 0.0, 0.0, 0.0, 0.0, 0.0, 0.0, ...  [199, 224, 31]   \n55  [0.0, 0.0, 0.0, 0.0, 0.0, 0.0, 0.0, 0.0, 0.0, ...  [210, 225, 27]   \n56  [0.0, 0.0, 0.0, 0.0, 0.0, 0.0, 0.0, 0.0, 0.0, ...  [223, 227, 24]   \n57  [0.0, 0.0, 0.0, 0.0, 0.0, 0.0, 0.0, 0.0, 0.0, ...  [233, 228, 25]   \n58  [0.0, 0.0, 0.0, 0.0, 0.0, 0.0, 0.0, 0.0, 0.0, ...  [243, 229, 30]   \n\n                                 tensor_value  \n0      [tensor(69.), tensor(6.), tensor(90.)]  \n1     [tensor(70.), tensor(12.), tensor(95.)]  \n2    [tensor(71.), tensor(18.), tensor(101.)]  \n3    [tensor(72.), tensor(25.), tensor(107.)]  \n4    [tensor(72.), tensor(30.), tensor(112.)]  \n5    [tensor(72.), tensor(35.), tensor(116.)]  \n6    [tensor(71.), tensor(40.), tensor(120.)]  \n7    [tensor(70.), tensor(47.), tensor(124.)]  \n8    [tensor(69.), tensor(52.), tensor(127.)]  \n9    [tensor(68.), tensor(57.), tensor(130.)]  \n10   [tensor(66.), tensor(61.), tensor(132.)]  \n11   [tensor(64.), tensor(67.), tensor(135.)]  \n12   [tensor(62.), tensor(72.), tensor(136.)]  \n13   [tensor(61.), tensor(76.), tensor(137.)]  \n14   [tensor(58.), tensor(82.), tensor(139.)]  \n15   [tensor(56.), tensor(86.), tensor(139.)]  \n16   [tensor(54.), tensor(90.), tensor(140.)]  \n17   [tensor(52.), tensor(94.), tensor(141.)]  \n18   [tensor(50.), tensor(99.), tensor(141.)]  \n19  [tensor(48.), tensor(103.), tensor(141.)]  \n20  [tensor(46.), tensor(107.), tensor(142.)]  \n21  [tensor(45.), tensor(111.), tensor(142.)]  \n22  [tensor(43.), tensor(116.), tensor(142.)]  \n23  [tensor(41.), tensor(120.), tensor(142.)]  \n24  [tensor(40.), tensor(123.), tensor(142.)]  \n25  [tensor(38.), tensor(127.), tensor(142.)]  \n26  [tensor(36.), tensor(132.), tensor(141.)]  \n27  [tensor(35.), tensor(136.), tensor(141.)]  \n28  [tensor(34.), tensor(139.), tensor(141.)]  \n29  [tensor(32.), tensor(144.), tensor(140.)]  \n30  [tensor(31.), tensor(148.), tensor(139.)]  \n31  [tensor(30.), tensor(152.), tensor(138.)]  \n32  [tensor(30.), tensor(155.), tensor(137.)]  \n33  [tensor(30.), tensor(160.), tensor(135.)]  \n34  [tensor(32.), tensor(164.), tensor(133.)]  \n35  [tensor(34.), tensor(167.), tensor(132.)]  \n36  [tensor(37.), tensor(171.), tensor(129.)]  \n37  [tensor(42.), tensor(176.), tensor(126.)]  \n38  [tensor(47.), tensor(179.), tensor(123.)]  \n39  [tensor(53.), tensor(183.), tensor(120.)]  \n40  [tensor(59.), tensor(186.), tensor(117.)]  \n41  [tensor(68.), tensor(190.), tensor(112.)]  \n42  [tensor(75.), tensor(194.), tensor(108.)]  \n43  [tensor(83.), tensor(197.), tensor(103.)]  \n44   [tensor(94.), tensor(201.), tensor(97.)]  \n45  [tensor(103.), tensor(204.), tensor(92.)]  \n46  [tensor(112.), tensor(206.), tensor(86.)]  \n47  [tensor(121.), tensor(209.), tensor(81.)]  \n48  [tensor(134.), tensor(212.), tensor(73.)]  \n49  [tensor(144.), tensor(214.), tensor(67.)]  \n50  [tensor(154.), tensor(216.), tensor(60.)]  \n51  [tensor(165.), tensor(218.), tensor(53.)]  \n52  [tensor(178.), tensor(221.), tensor(44.)]  \n53  [tensor(189.), tensor(222.), tensor(38.)]  \n54  [tensor(199.), tensor(224.), tensor(31.)]  \n55  [tensor(210.), tensor(225.), tensor(27.)]  \n56  [tensor(223.), tensor(227.), tensor(24.)]  \n57  [tensor(233.), tensor(228.), tensor(25.)]  \n58  [tensor(243.), tensor(229.), tensor(30.)]  ",
      "text/html": "<div>\n<style scoped>\n    .dataframe tbody tr th:only-of-type {\n        vertical-align: middle;\n    }\n\n    .dataframe tbody tr th {\n        vertical-align: top;\n    }\n\n    .dataframe thead th {\n        text-align: right;\n    }\n</style>\n<table border=\"1\" class=\"dataframe\">\n  <thead>\n    <tr style=\"text-align: right;\">\n      <th></th>\n      <th>class_name</th>\n      <th>r</th>\n      <th>g</th>\n      <th>b</th>\n      <th>One-hot</th>\n      <th>array_value</th>\n      <th>tensor_value</th>\n    </tr>\n  </thead>\n  <tbody>\n    <tr>\n      <th>0</th>\n      <td>none</td>\n      <td>69</td>\n      <td>6</td>\n      <td>90</td>\n      <td>[0.0, 0.0, 0.0, 0.0, 0.0, 0.0, 0.0, 0.0, 0.0, ...</td>\n      <td>[69, 6, 90]</td>\n      <td>[tensor(69.), tensor(6.), tensor(90.)]</td>\n    </tr>\n    <tr>\n      <th>1</th>\n      <td>accessories</td>\n      <td>70</td>\n      <td>12</td>\n      <td>95</td>\n      <td>[1.0, 0.0, 0.0, 0.0, 0.0, 0.0, 0.0, 0.0, 0.0, ...</td>\n      <td>[70, 12, 95]</td>\n      <td>[tensor(70.), tensor(12.), tensor(95.)]</td>\n    </tr>\n    <tr>\n      <th>2</th>\n      <td>bag</td>\n      <td>71</td>\n      <td>18</td>\n      <td>101</td>\n      <td>[0.0, 1.0, 0.0, 0.0, 0.0, 0.0, 0.0, 0.0, 0.0, ...</td>\n      <td>[71, 18, 101]</td>\n      <td>[tensor(71.), tensor(18.), tensor(101.)]</td>\n    </tr>\n    <tr>\n      <th>3</th>\n      <td>belt</td>\n      <td>72</td>\n      <td>25</td>\n      <td>107</td>\n      <td>[0.0, 0.0, 1.0, 0.0, 0.0, 0.0, 0.0, 0.0, 0.0, ...</td>\n      <td>[72, 25, 107]</td>\n      <td>[tensor(72.), tensor(25.), tensor(107.)]</td>\n    </tr>\n    <tr>\n      <th>4</th>\n      <td>blazer</td>\n      <td>72</td>\n      <td>30</td>\n      <td>112</td>\n      <td>[0.0, 0.0, 0.0, 1.0, 0.0, 0.0, 0.0, 0.0, 0.0, ...</td>\n      <td>[72, 30, 112]</td>\n      <td>[tensor(72.), tensor(30.), tensor(112.)]</td>\n    </tr>\n    <tr>\n      <th>5</th>\n      <td>blouse</td>\n      <td>72</td>\n      <td>35</td>\n      <td>116</td>\n      <td>[0.0, 0.0, 0.0, 0.0, 1.0, 0.0, 0.0, 0.0, 0.0, ...</td>\n      <td>[72, 35, 116]</td>\n      <td>[tensor(72.), tensor(35.), tensor(116.)]</td>\n    </tr>\n    <tr>\n      <th>6</th>\n      <td>bodysuit</td>\n      <td>71</td>\n      <td>40</td>\n      <td>120</td>\n      <td>[0.0, 0.0, 0.0, 0.0, 0.0, 1.0, 0.0, 0.0, 0.0, ...</td>\n      <td>[71, 40, 120]</td>\n      <td>[tensor(71.), tensor(40.), tensor(120.)]</td>\n    </tr>\n    <tr>\n      <th>7</th>\n      <td>boots</td>\n      <td>70</td>\n      <td>47</td>\n      <td>124</td>\n      <td>[0.0, 0.0, 0.0, 0.0, 0.0, 0.0, 1.0, 0.0, 0.0, ...</td>\n      <td>[70, 47, 124]</td>\n      <td>[tensor(70.), tensor(47.), tensor(124.)]</td>\n    </tr>\n    <tr>\n      <th>8</th>\n      <td>bra</td>\n      <td>69</td>\n      <td>52</td>\n      <td>127</td>\n      <td>[0.0, 0.0, 0.0, 0.0, 0.0, 0.0, 0.0, 1.0, 0.0, ...</td>\n      <td>[69, 52, 127]</td>\n      <td>[tensor(69.), tensor(52.), tensor(127.)]</td>\n    </tr>\n    <tr>\n      <th>9</th>\n      <td>bracelet</td>\n      <td>68</td>\n      <td>57</td>\n      <td>130</td>\n      <td>[0.0, 0.0, 0.0, 0.0, 0.0, 0.0, 0.0, 0.0, 1.0, ...</td>\n      <td>[68, 57, 130]</td>\n      <td>[tensor(68.), tensor(57.), tensor(130.)]</td>\n    </tr>\n    <tr>\n      <th>10</th>\n      <td>cape</td>\n      <td>66</td>\n      <td>61</td>\n      <td>132</td>\n      <td>[0.0, 0.0, 0.0, 0.0, 0.0, 0.0, 0.0, 0.0, 0.0, ...</td>\n      <td>[66, 61, 132]</td>\n      <td>[tensor(66.), tensor(61.), tensor(132.)]</td>\n    </tr>\n    <tr>\n      <th>11</th>\n      <td>cardigan</td>\n      <td>64</td>\n      <td>67</td>\n      <td>135</td>\n      <td>[0.0, 0.0, 0.0, 0.0, 0.0, 0.0, 0.0, 0.0, 0.0, ...</td>\n      <td>[64, 67, 135]</td>\n      <td>[tensor(64.), tensor(67.), tensor(135.)]</td>\n    </tr>\n    <tr>\n      <th>12</th>\n      <td>clogs</td>\n      <td>62</td>\n      <td>72</td>\n      <td>136</td>\n      <td>[0.0, 0.0, 0.0, 0.0, 0.0, 0.0, 0.0, 0.0, 0.0, ...</td>\n      <td>[62, 72, 136]</td>\n      <td>[tensor(62.), tensor(72.), tensor(136.)]</td>\n    </tr>\n    <tr>\n      <th>13</th>\n      <td>coat</td>\n      <td>61</td>\n      <td>76</td>\n      <td>137</td>\n      <td>[0.0, 0.0, 0.0, 0.0, 0.0, 0.0, 0.0, 0.0, 0.0, ...</td>\n      <td>[61, 76, 137]</td>\n      <td>[tensor(61.), tensor(76.), tensor(137.)]</td>\n    </tr>\n    <tr>\n      <th>14</th>\n      <td>dress</td>\n      <td>58</td>\n      <td>82</td>\n      <td>139</td>\n      <td>[0.0, 0.0, 0.0, 0.0, 0.0, 0.0, 0.0, 0.0, 0.0, ...</td>\n      <td>[58, 82, 139]</td>\n      <td>[tensor(58.), tensor(82.), tensor(139.)]</td>\n    </tr>\n    <tr>\n      <th>15</th>\n      <td>earrings</td>\n      <td>56</td>\n      <td>86</td>\n      <td>139</td>\n      <td>[0.0, 0.0, 0.0, 0.0, 0.0, 0.0, 0.0, 0.0, 0.0, ...</td>\n      <td>[56, 86, 139]</td>\n      <td>[tensor(56.), tensor(86.), tensor(139.)]</td>\n    </tr>\n    <tr>\n      <th>16</th>\n      <td>flats</td>\n      <td>54</td>\n      <td>90</td>\n      <td>140</td>\n      <td>[0.0, 0.0, 0.0, 0.0, 0.0, 0.0, 0.0, 0.0, 0.0, ...</td>\n      <td>[54, 90, 140]</td>\n      <td>[tensor(54.), tensor(90.), tensor(140.)]</td>\n    </tr>\n    <tr>\n      <th>17</th>\n      <td>glasses</td>\n      <td>52</td>\n      <td>94</td>\n      <td>141</td>\n      <td>[0.0, 0.0, 0.0, 0.0, 0.0, 0.0, 0.0, 0.0, 0.0, ...</td>\n      <td>[52, 94, 141]</td>\n      <td>[tensor(52.), tensor(94.), tensor(141.)]</td>\n    </tr>\n    <tr>\n      <th>18</th>\n      <td>gloves</td>\n      <td>50</td>\n      <td>99</td>\n      <td>141</td>\n      <td>[0.0, 0.0, 0.0, 0.0, 0.0, 0.0, 0.0, 0.0, 0.0, ...</td>\n      <td>[50, 99, 141]</td>\n      <td>[tensor(50.), tensor(99.), tensor(141.)]</td>\n    </tr>\n    <tr>\n      <th>19</th>\n      <td>hair</td>\n      <td>48</td>\n      <td>103</td>\n      <td>141</td>\n      <td>[0.0, 0.0, 0.0, 0.0, 0.0, 0.0, 0.0, 0.0, 0.0, ...</td>\n      <td>[48, 103, 141]</td>\n      <td>[tensor(48.), tensor(103.), tensor(141.)]</td>\n    </tr>\n    <tr>\n      <th>20</th>\n      <td>hat</td>\n      <td>46</td>\n      <td>107</td>\n      <td>142</td>\n      <td>[0.0, 0.0, 0.0, 0.0, 0.0, 0.0, 0.0, 0.0, 0.0, ...</td>\n      <td>[46, 107, 142]</td>\n      <td>[tensor(46.), tensor(107.), tensor(142.)]</td>\n    </tr>\n    <tr>\n      <th>21</th>\n      <td>heels</td>\n      <td>45</td>\n      <td>111</td>\n      <td>142</td>\n      <td>[0.0, 0.0, 0.0, 0.0, 0.0, 0.0, 0.0, 0.0, 0.0, ...</td>\n      <td>[45, 111, 142]</td>\n      <td>[tensor(45.), tensor(111.), tensor(142.)]</td>\n    </tr>\n    <tr>\n      <th>22</th>\n      <td>hoodie</td>\n      <td>43</td>\n      <td>116</td>\n      <td>142</td>\n      <td>[0.0, 0.0, 0.0, 0.0, 0.0, 0.0, 0.0, 0.0, 0.0, ...</td>\n      <td>[43, 116, 142]</td>\n      <td>[tensor(43.), tensor(116.), tensor(142.)]</td>\n    </tr>\n    <tr>\n      <th>23</th>\n      <td>intimate</td>\n      <td>41</td>\n      <td>120</td>\n      <td>142</td>\n      <td>[0.0, 0.0, 0.0, 0.0, 0.0, 0.0, 0.0, 0.0, 0.0, ...</td>\n      <td>[41, 120, 142]</td>\n      <td>[tensor(41.), tensor(120.), tensor(142.)]</td>\n    </tr>\n    <tr>\n      <th>24</th>\n      <td>jacket</td>\n      <td>40</td>\n      <td>123</td>\n      <td>142</td>\n      <td>[0.0, 0.0, 0.0, 0.0, 0.0, 0.0, 0.0, 0.0, 0.0, ...</td>\n      <td>[40, 123, 142]</td>\n      <td>[tensor(40.), tensor(123.), tensor(142.)]</td>\n    </tr>\n    <tr>\n      <th>25</th>\n      <td>jeans</td>\n      <td>38</td>\n      <td>127</td>\n      <td>142</td>\n      <td>[0.0, 0.0, 0.0, 0.0, 0.0, 0.0, 0.0, 0.0, 0.0, ...</td>\n      <td>[38, 127, 142]</td>\n      <td>[tensor(38.), tensor(127.), tensor(142.)]</td>\n    </tr>\n    <tr>\n      <th>26</th>\n      <td>jumper</td>\n      <td>36</td>\n      <td>132</td>\n      <td>141</td>\n      <td>[0.0, 0.0, 0.0, 0.0, 0.0, 0.0, 0.0, 0.0, 0.0, ...</td>\n      <td>[36, 132, 141]</td>\n      <td>[tensor(36.), tensor(132.), tensor(141.)]</td>\n    </tr>\n    <tr>\n      <th>27</th>\n      <td>leggings</td>\n      <td>35</td>\n      <td>136</td>\n      <td>141</td>\n      <td>[0.0, 0.0, 0.0, 0.0, 0.0, 0.0, 0.0, 0.0, 0.0, ...</td>\n      <td>[35, 136, 141]</td>\n      <td>[tensor(35.), tensor(136.), tensor(141.)]</td>\n    </tr>\n    <tr>\n      <th>28</th>\n      <td>loafers</td>\n      <td>34</td>\n      <td>139</td>\n      <td>141</td>\n      <td>[0.0, 0.0, 0.0, 0.0, 0.0, 0.0, 0.0, 0.0, 0.0, ...</td>\n      <td>[34, 139, 141]</td>\n      <td>[tensor(34.), tensor(139.), tensor(141.)]</td>\n    </tr>\n    <tr>\n      <th>29</th>\n      <td>necklace</td>\n      <td>32</td>\n      <td>144</td>\n      <td>140</td>\n      <td>[0.0, 0.0, 0.0, 0.0, 0.0, 0.0, 0.0, 0.0, 0.0, ...</td>\n      <td>[32, 144, 140]</td>\n      <td>[tensor(32.), tensor(144.), tensor(140.)]</td>\n    </tr>\n    <tr>\n      <th>30</th>\n      <td>panties</td>\n      <td>31</td>\n      <td>148</td>\n      <td>139</td>\n      <td>[0.0, 0.0, 0.0, 0.0, 0.0, 0.0, 0.0, 0.0, 0.0, ...</td>\n      <td>[31, 148, 139]</td>\n      <td>[tensor(31.), tensor(148.), tensor(139.)]</td>\n    </tr>\n    <tr>\n      <th>31</th>\n      <td>pants</td>\n      <td>30</td>\n      <td>152</td>\n      <td>138</td>\n      <td>[0.0, 0.0, 0.0, 0.0, 0.0, 0.0, 0.0, 0.0, 0.0, ...</td>\n      <td>[30, 152, 138]</td>\n      <td>[tensor(30.), tensor(152.), tensor(138.)]</td>\n    </tr>\n    <tr>\n      <th>32</th>\n      <td>pumps</td>\n      <td>30</td>\n      <td>155</td>\n      <td>137</td>\n      <td>[0.0, 0.0, 0.0, 0.0, 0.0, 0.0, 0.0, 0.0, 0.0, ...</td>\n      <td>[30, 155, 137]</td>\n      <td>[tensor(30.), tensor(155.), tensor(137.)]</td>\n    </tr>\n    <tr>\n      <th>33</th>\n      <td>purse</td>\n      <td>30</td>\n      <td>160</td>\n      <td>135</td>\n      <td>[0.0, 0.0, 0.0, 0.0, 0.0, 0.0, 0.0, 0.0, 0.0, ...</td>\n      <td>[30, 160, 135]</td>\n      <td>[tensor(30.), tensor(160.), tensor(135.)]</td>\n    </tr>\n    <tr>\n      <th>34</th>\n      <td>ring</td>\n      <td>32</td>\n      <td>164</td>\n      <td>133</td>\n      <td>[0.0, 0.0, 0.0, 0.0, 0.0, 0.0, 0.0, 0.0, 0.0, ...</td>\n      <td>[32, 164, 133]</td>\n      <td>[tensor(32.), tensor(164.), tensor(133.)]</td>\n    </tr>\n    <tr>\n      <th>35</th>\n      <td>romper</td>\n      <td>34</td>\n      <td>167</td>\n      <td>132</td>\n      <td>[0.0, 0.0, 0.0, 0.0, 0.0, 0.0, 0.0, 0.0, 0.0, ...</td>\n      <td>[34, 167, 132]</td>\n      <td>[tensor(34.), tensor(167.), tensor(132.)]</td>\n    </tr>\n    <tr>\n      <th>36</th>\n      <td>sandals</td>\n      <td>37</td>\n      <td>171</td>\n      <td>129</td>\n      <td>[0.0, 0.0, 0.0, 0.0, 0.0, 0.0, 0.0, 0.0, 0.0, ...</td>\n      <td>[37, 171, 129]</td>\n      <td>[tensor(37.), tensor(171.), tensor(129.)]</td>\n    </tr>\n    <tr>\n      <th>37</th>\n      <td>scarf</td>\n      <td>42</td>\n      <td>176</td>\n      <td>126</td>\n      <td>[0.0, 0.0, 0.0, 0.0, 0.0, 0.0, 0.0, 0.0, 0.0, ...</td>\n      <td>[42, 176, 126]</td>\n      <td>[tensor(42.), tensor(176.), tensor(126.)]</td>\n    </tr>\n    <tr>\n      <th>38</th>\n      <td>shirt</td>\n      <td>47</td>\n      <td>179</td>\n      <td>123</td>\n      <td>[0.0, 0.0, 0.0, 0.0, 0.0, 0.0, 0.0, 0.0, 0.0, ...</td>\n      <td>[47, 179, 123]</td>\n      <td>[tensor(47.), tensor(179.), tensor(123.)]</td>\n    </tr>\n    <tr>\n      <th>39</th>\n      <td>shoes</td>\n      <td>53</td>\n      <td>183</td>\n      <td>120</td>\n      <td>[0.0, 0.0, 0.0, 0.0, 0.0, 0.0, 0.0, 0.0, 0.0, ...</td>\n      <td>[53, 183, 120]</td>\n      <td>[tensor(53.), tensor(183.), tensor(120.)]</td>\n    </tr>\n    <tr>\n      <th>40</th>\n      <td>shorts</td>\n      <td>59</td>\n      <td>186</td>\n      <td>117</td>\n      <td>[0.0, 0.0, 0.0, 0.0, 0.0, 0.0, 0.0, 0.0, 0.0, ...</td>\n      <td>[59, 186, 117]</td>\n      <td>[tensor(59.), tensor(186.), tensor(117.)]</td>\n    </tr>\n    <tr>\n      <th>41</th>\n      <td>skin</td>\n      <td>68</td>\n      <td>190</td>\n      <td>112</td>\n      <td>[0.0, 0.0, 0.0, 0.0, 0.0, 0.0, 0.0, 0.0, 0.0, ...</td>\n      <td>[68, 190, 112]</td>\n      <td>[tensor(68.), tensor(190.), tensor(112.)]</td>\n    </tr>\n    <tr>\n      <th>42</th>\n      <td>skirt</td>\n      <td>75</td>\n      <td>194</td>\n      <td>108</td>\n      <td>[0.0, 0.0, 0.0, 0.0, 0.0, 0.0, 0.0, 0.0, 0.0, ...</td>\n      <td>[75, 194, 108]</td>\n      <td>[tensor(75.), tensor(194.), tensor(108.)]</td>\n    </tr>\n    <tr>\n      <th>43</th>\n      <td>sneakers</td>\n      <td>83</td>\n      <td>197</td>\n      <td>103</td>\n      <td>[0.0, 0.0, 0.0, 0.0, 0.0, 0.0, 0.0, 0.0, 0.0, ...</td>\n      <td>[83, 197, 103]</td>\n      <td>[tensor(83.), tensor(197.), tensor(103.)]</td>\n    </tr>\n    <tr>\n      <th>44</th>\n      <td>socks</td>\n      <td>94</td>\n      <td>201</td>\n      <td>97</td>\n      <td>[0.0, 0.0, 0.0, 0.0, 0.0, 0.0, 0.0, 0.0, 0.0, ...</td>\n      <td>[94, 201, 97]</td>\n      <td>[tensor(94.), tensor(201.), tensor(97.)]</td>\n    </tr>\n    <tr>\n      <th>45</th>\n      <td>stockings</td>\n      <td>103</td>\n      <td>204</td>\n      <td>92</td>\n      <td>[0.0, 0.0, 0.0, 0.0, 0.0, 0.0, 0.0, 0.0, 0.0, ...</td>\n      <td>[103, 204, 92]</td>\n      <td>[tensor(103.), tensor(204.), tensor(92.)]</td>\n    </tr>\n    <tr>\n      <th>46</th>\n      <td>suit</td>\n      <td>112</td>\n      <td>206</td>\n      <td>86</td>\n      <td>[0.0, 0.0, 0.0, 0.0, 0.0, 0.0, 0.0, 0.0, 0.0, ...</td>\n      <td>[112, 206, 86]</td>\n      <td>[tensor(112.), tensor(206.), tensor(86.)]</td>\n    </tr>\n    <tr>\n      <th>47</th>\n      <td>sunglasses</td>\n      <td>121</td>\n      <td>209</td>\n      <td>81</td>\n      <td>[0.0, 0.0, 0.0, 0.0, 0.0, 0.0, 0.0, 0.0, 0.0, ...</td>\n      <td>[121, 209, 81]</td>\n      <td>[tensor(121.), tensor(209.), tensor(81.)]</td>\n    </tr>\n    <tr>\n      <th>48</th>\n      <td>sweater</td>\n      <td>134</td>\n      <td>212</td>\n      <td>73</td>\n      <td>[0.0, 0.0, 0.0, 0.0, 0.0, 0.0, 0.0, 0.0, 0.0, ...</td>\n      <td>[134, 212, 73]</td>\n      <td>[tensor(134.), tensor(212.), tensor(73.)]</td>\n    </tr>\n    <tr>\n      <th>49</th>\n      <td>sweatshirt</td>\n      <td>144</td>\n      <td>214</td>\n      <td>67</td>\n      <td>[0.0, 0.0, 0.0, 0.0, 0.0, 0.0, 0.0, 0.0, 0.0, ...</td>\n      <td>[144, 214, 67]</td>\n      <td>[tensor(144.), tensor(214.), tensor(67.)]</td>\n    </tr>\n    <tr>\n      <th>50</th>\n      <td>swimwear</td>\n      <td>154</td>\n      <td>216</td>\n      <td>60</td>\n      <td>[0.0, 0.0, 0.0, 0.0, 0.0, 0.0, 0.0, 0.0, 0.0, ...</td>\n      <td>[154, 216, 60]</td>\n      <td>[tensor(154.), tensor(216.), tensor(60.)]</td>\n    </tr>\n    <tr>\n      <th>51</th>\n      <td>t-shirt</td>\n      <td>165</td>\n      <td>218</td>\n      <td>53</td>\n      <td>[0.0, 0.0, 0.0, 0.0, 0.0, 0.0, 0.0, 0.0, 0.0, ...</td>\n      <td>[165, 218, 53]</td>\n      <td>[tensor(165.), tensor(218.), tensor(53.)]</td>\n    </tr>\n    <tr>\n      <th>52</th>\n      <td>tie</td>\n      <td>178</td>\n      <td>221</td>\n      <td>44</td>\n      <td>[0.0, 0.0, 0.0, 0.0, 0.0, 0.0, 0.0, 0.0, 0.0, ...</td>\n      <td>[178, 221, 44]</td>\n      <td>[tensor(178.), tensor(221.), tensor(44.)]</td>\n    </tr>\n    <tr>\n      <th>53</th>\n      <td>tights</td>\n      <td>189</td>\n      <td>222</td>\n      <td>38</td>\n      <td>[0.0, 0.0, 0.0, 0.0, 0.0, 0.0, 0.0, 0.0, 0.0, ...</td>\n      <td>[189, 222, 38]</td>\n      <td>[tensor(189.), tensor(222.), tensor(38.)]</td>\n    </tr>\n    <tr>\n      <th>54</th>\n      <td>top</td>\n      <td>199</td>\n      <td>224</td>\n      <td>31</td>\n      <td>[0.0, 0.0, 0.0, 0.0, 0.0, 0.0, 0.0, 0.0, 0.0, ...</td>\n      <td>[199, 224, 31]</td>\n      <td>[tensor(199.), tensor(224.), tensor(31.)]</td>\n    </tr>\n    <tr>\n      <th>55</th>\n      <td>vest</td>\n      <td>210</td>\n      <td>225</td>\n      <td>27</td>\n      <td>[0.0, 0.0, 0.0, 0.0, 0.0, 0.0, 0.0, 0.0, 0.0, ...</td>\n      <td>[210, 225, 27]</td>\n      <td>[tensor(210.), tensor(225.), tensor(27.)]</td>\n    </tr>\n    <tr>\n      <th>56</th>\n      <td>wallet</td>\n      <td>223</td>\n      <td>227</td>\n      <td>24</td>\n      <td>[0.0, 0.0, 0.0, 0.0, 0.0, 0.0, 0.0, 0.0, 0.0, ...</td>\n      <td>[223, 227, 24]</td>\n      <td>[tensor(223.), tensor(227.), tensor(24.)]</td>\n    </tr>\n    <tr>\n      <th>57</th>\n      <td>watch</td>\n      <td>233</td>\n      <td>228</td>\n      <td>25</td>\n      <td>[0.0, 0.0, 0.0, 0.0, 0.0, 0.0, 0.0, 0.0, 0.0, ...</td>\n      <td>[233, 228, 25]</td>\n      <td>[tensor(233.), tensor(228.), tensor(25.)]</td>\n    </tr>\n    <tr>\n      <th>58</th>\n      <td>wedges</td>\n      <td>243</td>\n      <td>229</td>\n      <td>30</td>\n      <td>[0.0, 0.0, 0.0, 0.0, 0.0, 0.0, 0.0, 0.0, 0.0, ...</td>\n      <td>[243, 229, 30]</td>\n      <td>[tensor(243.), tensor(229.), tensor(30.)]</td>\n    </tr>\n  </tbody>\n</table>\n</div>"
     },
     "execution_count": 291,
     "metadata": {},
     "output_type": "execute_result"
    }
   ],
   "source": [
    "encoder = OneHotEncoder(sparse=False)\n",
    "codes = encoder.fit_transform(classes[\"class_name\"].values.reshape(-1,1))\n",
    "\n",
    "encoded_df = pd.concat([classes, pd.Series(list(codes[:]))], axis=1).rename(columns={0: \"One-hot\"}, inplace=False)\n",
    "encoded_df[\"array_value\"] = encoded_df[[\"r\",\"g\",\"b\"]].apply(lambda x: np.array([x.r, x.g, x.b]), axis=1)\n",
    "encoded_df[\"tensor_value\"] = encoded_df[[\"r\",\"g\",\"b\"]].apply(lambda x: torch.tensor([x.r, x.g, x.b]).float(), axis=1)\n",
    "encoded_df"
   ],
   "metadata": {
    "collapsed": false,
    "ExecuteTime": {
     "end_time": "2023-11-12T22:34:26.354217600Z",
     "start_time": "2023-11-12T22:34:26.273667100Z"
    }
   },
   "id": "9dc1307673503fc2"
  },
  {
   "cell_type": "code",
   "execution_count": 303,
   "outputs": [
    {
     "name": "stdout",
     "output_type": "stream",
     "text": [
      "int64\n"
     ]
    },
    {
     "data": {
      "text/plain": "{b'E\\x00\\x00\\x00\\x00\\x00\\x00\\x00\\x06\\x00\\x00\\x00\\x00\\x00\\x00\\x00Z\\x00\\x00\\x00\\x00\\x00\\x00\\x00': array([0., 0., 0., 0., 0., 0., 0., 0., 0., 0., 0., 0., 0., 0., 0., 0., 0.,\n        0., 0., 0., 0., 0., 0., 0., 0., 0., 0., 0., 0., 1., 0., 0., 0., 0.,\n        0., 0., 0., 0., 0., 0., 0., 0., 0., 0., 0., 0., 0., 0., 0., 0., 0.,\n        0., 0., 0., 0., 0., 0., 0., 0.]),\n b'F\\x00\\x00\\x00\\x00\\x00\\x00\\x00\\x0c\\x00\\x00\\x00\\x00\\x00\\x00\\x00_\\x00\\x00\\x00\\x00\\x00\\x00\\x00': array([1., 0., 0., 0., 0., 0., 0., 0., 0., 0., 0., 0., 0., 0., 0., 0., 0.,\n        0., 0., 0., 0., 0., 0., 0., 0., 0., 0., 0., 0., 0., 0., 0., 0., 0.,\n        0., 0., 0., 0., 0., 0., 0., 0., 0., 0., 0., 0., 0., 0., 0., 0., 0.,\n        0., 0., 0., 0., 0., 0., 0., 0.]),\n b'G\\x00\\x00\\x00\\x00\\x00\\x00\\x00\\x12\\x00\\x00\\x00\\x00\\x00\\x00\\x00e\\x00\\x00\\x00\\x00\\x00\\x00\\x00': array([0., 1., 0., 0., 0., 0., 0., 0., 0., 0., 0., 0., 0., 0., 0., 0., 0.,\n        0., 0., 0., 0., 0., 0., 0., 0., 0., 0., 0., 0., 0., 0., 0., 0., 0.,\n        0., 0., 0., 0., 0., 0., 0., 0., 0., 0., 0., 0., 0., 0., 0., 0., 0.,\n        0., 0., 0., 0., 0., 0., 0., 0.]),\n b'H\\x00\\x00\\x00\\x00\\x00\\x00\\x00\\x19\\x00\\x00\\x00\\x00\\x00\\x00\\x00k\\x00\\x00\\x00\\x00\\x00\\x00\\x00': array([0., 0., 1., 0., 0., 0., 0., 0., 0., 0., 0., 0., 0., 0., 0., 0., 0.,\n        0., 0., 0., 0., 0., 0., 0., 0., 0., 0., 0., 0., 0., 0., 0., 0., 0.,\n        0., 0., 0., 0., 0., 0., 0., 0., 0., 0., 0., 0., 0., 0., 0., 0., 0.,\n        0., 0., 0., 0., 0., 0., 0., 0.]),\n b'H\\x00\\x00\\x00\\x00\\x00\\x00\\x00\\x1e\\x00\\x00\\x00\\x00\\x00\\x00\\x00p\\x00\\x00\\x00\\x00\\x00\\x00\\x00': array([0., 0., 0., 1., 0., 0., 0., 0., 0., 0., 0., 0., 0., 0., 0., 0., 0.,\n        0., 0., 0., 0., 0., 0., 0., 0., 0., 0., 0., 0., 0., 0., 0., 0., 0.,\n        0., 0., 0., 0., 0., 0., 0., 0., 0., 0., 0., 0., 0., 0., 0., 0., 0.,\n        0., 0., 0., 0., 0., 0., 0., 0.]),\n b'H\\x00\\x00\\x00\\x00\\x00\\x00\\x00#\\x00\\x00\\x00\\x00\\x00\\x00\\x00t\\x00\\x00\\x00\\x00\\x00\\x00\\x00': array([0., 0., 0., 0., 1., 0., 0., 0., 0., 0., 0., 0., 0., 0., 0., 0., 0.,\n        0., 0., 0., 0., 0., 0., 0., 0., 0., 0., 0., 0., 0., 0., 0., 0., 0.,\n        0., 0., 0., 0., 0., 0., 0., 0., 0., 0., 0., 0., 0., 0., 0., 0., 0.,\n        0., 0., 0., 0., 0., 0., 0., 0.]),\n b'G\\x00\\x00\\x00\\x00\\x00\\x00\\x00(\\x00\\x00\\x00\\x00\\x00\\x00\\x00x\\x00\\x00\\x00\\x00\\x00\\x00\\x00': array([0., 0., 0., 0., 0., 1., 0., 0., 0., 0., 0., 0., 0., 0., 0., 0., 0.,\n        0., 0., 0., 0., 0., 0., 0., 0., 0., 0., 0., 0., 0., 0., 0., 0., 0.,\n        0., 0., 0., 0., 0., 0., 0., 0., 0., 0., 0., 0., 0., 0., 0., 0., 0.,\n        0., 0., 0., 0., 0., 0., 0., 0.]),\n b'F\\x00\\x00\\x00\\x00\\x00\\x00\\x00/\\x00\\x00\\x00\\x00\\x00\\x00\\x00|\\x00\\x00\\x00\\x00\\x00\\x00\\x00': array([0., 0., 0., 0., 0., 0., 1., 0., 0., 0., 0., 0., 0., 0., 0., 0., 0.,\n        0., 0., 0., 0., 0., 0., 0., 0., 0., 0., 0., 0., 0., 0., 0., 0., 0.,\n        0., 0., 0., 0., 0., 0., 0., 0., 0., 0., 0., 0., 0., 0., 0., 0., 0.,\n        0., 0., 0., 0., 0., 0., 0., 0.]),\n b'E\\x00\\x00\\x00\\x00\\x00\\x00\\x004\\x00\\x00\\x00\\x00\\x00\\x00\\x00\\x7f\\x00\\x00\\x00\\x00\\x00\\x00\\x00': array([0., 0., 0., 0., 0., 0., 0., 1., 0., 0., 0., 0., 0., 0., 0., 0., 0.,\n        0., 0., 0., 0., 0., 0., 0., 0., 0., 0., 0., 0., 0., 0., 0., 0., 0.,\n        0., 0., 0., 0., 0., 0., 0., 0., 0., 0., 0., 0., 0., 0., 0., 0., 0.,\n        0., 0., 0., 0., 0., 0., 0., 0.]),\n b'D\\x00\\x00\\x00\\x00\\x00\\x00\\x009\\x00\\x00\\x00\\x00\\x00\\x00\\x00\\x82\\x00\\x00\\x00\\x00\\x00\\x00\\x00': array([0., 0., 0., 0., 0., 0., 0., 0., 1., 0., 0., 0., 0., 0., 0., 0., 0.,\n        0., 0., 0., 0., 0., 0., 0., 0., 0., 0., 0., 0., 0., 0., 0., 0., 0.,\n        0., 0., 0., 0., 0., 0., 0., 0., 0., 0., 0., 0., 0., 0., 0., 0., 0.,\n        0., 0., 0., 0., 0., 0., 0., 0.]),\n b'B\\x00\\x00\\x00\\x00\\x00\\x00\\x00=\\x00\\x00\\x00\\x00\\x00\\x00\\x00\\x84\\x00\\x00\\x00\\x00\\x00\\x00\\x00': array([0., 0., 0., 0., 0., 0., 0., 0., 0., 1., 0., 0., 0., 0., 0., 0., 0.,\n        0., 0., 0., 0., 0., 0., 0., 0., 0., 0., 0., 0., 0., 0., 0., 0., 0.,\n        0., 0., 0., 0., 0., 0., 0., 0., 0., 0., 0., 0., 0., 0., 0., 0., 0.,\n        0., 0., 0., 0., 0., 0., 0., 0.]),\n b'@\\x00\\x00\\x00\\x00\\x00\\x00\\x00C\\x00\\x00\\x00\\x00\\x00\\x00\\x00\\x87\\x00\\x00\\x00\\x00\\x00\\x00\\x00': array([0., 0., 0., 0., 0., 0., 0., 0., 0., 0., 1., 0., 0., 0., 0., 0., 0.,\n        0., 0., 0., 0., 0., 0., 0., 0., 0., 0., 0., 0., 0., 0., 0., 0., 0.,\n        0., 0., 0., 0., 0., 0., 0., 0., 0., 0., 0., 0., 0., 0., 0., 0., 0.,\n        0., 0., 0., 0., 0., 0., 0., 0.]),\n b'>\\x00\\x00\\x00\\x00\\x00\\x00\\x00H\\x00\\x00\\x00\\x00\\x00\\x00\\x00\\x88\\x00\\x00\\x00\\x00\\x00\\x00\\x00': array([0., 0., 0., 0., 0., 0., 0., 0., 0., 0., 0., 1., 0., 0., 0., 0., 0.,\n        0., 0., 0., 0., 0., 0., 0., 0., 0., 0., 0., 0., 0., 0., 0., 0., 0.,\n        0., 0., 0., 0., 0., 0., 0., 0., 0., 0., 0., 0., 0., 0., 0., 0., 0.,\n        0., 0., 0., 0., 0., 0., 0., 0.]),\n b'=\\x00\\x00\\x00\\x00\\x00\\x00\\x00L\\x00\\x00\\x00\\x00\\x00\\x00\\x00\\x89\\x00\\x00\\x00\\x00\\x00\\x00\\x00': array([0., 0., 0., 0., 0., 0., 0., 0., 0., 0., 0., 0., 1., 0., 0., 0., 0.,\n        0., 0., 0., 0., 0., 0., 0., 0., 0., 0., 0., 0., 0., 0., 0., 0., 0.,\n        0., 0., 0., 0., 0., 0., 0., 0., 0., 0., 0., 0., 0., 0., 0., 0., 0.,\n        0., 0., 0., 0., 0., 0., 0., 0.]),\n b':\\x00\\x00\\x00\\x00\\x00\\x00\\x00R\\x00\\x00\\x00\\x00\\x00\\x00\\x00\\x8b\\x00\\x00\\x00\\x00\\x00\\x00\\x00': array([0., 0., 0., 0., 0., 0., 0., 0., 0., 0., 0., 0., 0., 1., 0., 0., 0.,\n        0., 0., 0., 0., 0., 0., 0., 0., 0., 0., 0., 0., 0., 0., 0., 0., 0.,\n        0., 0., 0., 0., 0., 0., 0., 0., 0., 0., 0., 0., 0., 0., 0., 0., 0.,\n        0., 0., 0., 0., 0., 0., 0., 0.]),\n b'8\\x00\\x00\\x00\\x00\\x00\\x00\\x00V\\x00\\x00\\x00\\x00\\x00\\x00\\x00\\x8b\\x00\\x00\\x00\\x00\\x00\\x00\\x00': array([0., 0., 0., 0., 0., 0., 0., 0., 0., 0., 0., 0., 0., 0., 1., 0., 0.,\n        0., 0., 0., 0., 0., 0., 0., 0., 0., 0., 0., 0., 0., 0., 0., 0., 0.,\n        0., 0., 0., 0., 0., 0., 0., 0., 0., 0., 0., 0., 0., 0., 0., 0., 0.,\n        0., 0., 0., 0., 0., 0., 0., 0.]),\n b'6\\x00\\x00\\x00\\x00\\x00\\x00\\x00Z\\x00\\x00\\x00\\x00\\x00\\x00\\x00\\x8c\\x00\\x00\\x00\\x00\\x00\\x00\\x00': array([0., 0., 0., 0., 0., 0., 0., 0., 0., 0., 0., 0., 0., 0., 0., 1., 0.,\n        0., 0., 0., 0., 0., 0., 0., 0., 0., 0., 0., 0., 0., 0., 0., 0., 0.,\n        0., 0., 0., 0., 0., 0., 0., 0., 0., 0., 0., 0., 0., 0., 0., 0., 0.,\n        0., 0., 0., 0., 0., 0., 0., 0.]),\n b'4\\x00\\x00\\x00\\x00\\x00\\x00\\x00^\\x00\\x00\\x00\\x00\\x00\\x00\\x00\\x8d\\x00\\x00\\x00\\x00\\x00\\x00\\x00': array([0., 0., 0., 0., 0., 0., 0., 0., 0., 0., 0., 0., 0., 0., 0., 0., 1.,\n        0., 0., 0., 0., 0., 0., 0., 0., 0., 0., 0., 0., 0., 0., 0., 0., 0.,\n        0., 0., 0., 0., 0., 0., 0., 0., 0., 0., 0., 0., 0., 0., 0., 0., 0.,\n        0., 0., 0., 0., 0., 0., 0., 0.]),\n b'2\\x00\\x00\\x00\\x00\\x00\\x00\\x00c\\x00\\x00\\x00\\x00\\x00\\x00\\x00\\x8d\\x00\\x00\\x00\\x00\\x00\\x00\\x00': array([0., 0., 0., 0., 0., 0., 0., 0., 0., 0., 0., 0., 0., 0., 0., 0., 0.,\n        1., 0., 0., 0., 0., 0., 0., 0., 0., 0., 0., 0., 0., 0., 0., 0., 0.,\n        0., 0., 0., 0., 0., 0., 0., 0., 0., 0., 0., 0., 0., 0., 0., 0., 0.,\n        0., 0., 0., 0., 0., 0., 0., 0.]),\n b'0\\x00\\x00\\x00\\x00\\x00\\x00\\x00g\\x00\\x00\\x00\\x00\\x00\\x00\\x00\\x8d\\x00\\x00\\x00\\x00\\x00\\x00\\x00': array([0., 0., 0., 0., 0., 0., 0., 0., 0., 0., 0., 0., 0., 0., 0., 0., 0.,\n        0., 1., 0., 0., 0., 0., 0., 0., 0., 0., 0., 0., 0., 0., 0., 0., 0.,\n        0., 0., 0., 0., 0., 0., 0., 0., 0., 0., 0., 0., 0., 0., 0., 0., 0.,\n        0., 0., 0., 0., 0., 0., 0., 0.]),\n b'.\\x00\\x00\\x00\\x00\\x00\\x00\\x00k\\x00\\x00\\x00\\x00\\x00\\x00\\x00\\x8e\\x00\\x00\\x00\\x00\\x00\\x00\\x00': array([0., 0., 0., 0., 0., 0., 0., 0., 0., 0., 0., 0., 0., 0., 0., 0., 0.,\n        0., 0., 1., 0., 0., 0., 0., 0., 0., 0., 0., 0., 0., 0., 0., 0., 0.,\n        0., 0., 0., 0., 0., 0., 0., 0., 0., 0., 0., 0., 0., 0., 0., 0., 0.,\n        0., 0., 0., 0., 0., 0., 0., 0.]),\n b'-\\x00\\x00\\x00\\x00\\x00\\x00\\x00o\\x00\\x00\\x00\\x00\\x00\\x00\\x00\\x8e\\x00\\x00\\x00\\x00\\x00\\x00\\x00': array([0., 0., 0., 0., 0., 0., 0., 0., 0., 0., 0., 0., 0., 0., 0., 0., 0.,\n        0., 0., 0., 1., 0., 0., 0., 0., 0., 0., 0., 0., 0., 0., 0., 0., 0.,\n        0., 0., 0., 0., 0., 0., 0., 0., 0., 0., 0., 0., 0., 0., 0., 0., 0.,\n        0., 0., 0., 0., 0., 0., 0., 0.]),\n b'+\\x00\\x00\\x00\\x00\\x00\\x00\\x00t\\x00\\x00\\x00\\x00\\x00\\x00\\x00\\x8e\\x00\\x00\\x00\\x00\\x00\\x00\\x00': array([0., 0., 0., 0., 0., 0., 0., 0., 0., 0., 0., 0., 0., 0., 0., 0., 0.,\n        0., 0., 0., 0., 1., 0., 0., 0., 0., 0., 0., 0., 0., 0., 0., 0., 0.,\n        0., 0., 0., 0., 0., 0., 0., 0., 0., 0., 0., 0., 0., 0., 0., 0., 0.,\n        0., 0., 0., 0., 0., 0., 0., 0.]),\n b')\\x00\\x00\\x00\\x00\\x00\\x00\\x00x\\x00\\x00\\x00\\x00\\x00\\x00\\x00\\x8e\\x00\\x00\\x00\\x00\\x00\\x00\\x00': array([0., 0., 0., 0., 0., 0., 0., 0., 0., 0., 0., 0., 0., 0., 0., 0., 0.,\n        0., 0., 0., 0., 0., 1., 0., 0., 0., 0., 0., 0., 0., 0., 0., 0., 0.,\n        0., 0., 0., 0., 0., 0., 0., 0., 0., 0., 0., 0., 0., 0., 0., 0., 0.,\n        0., 0., 0., 0., 0., 0., 0., 0.]),\n b'(\\x00\\x00\\x00\\x00\\x00\\x00\\x00{\\x00\\x00\\x00\\x00\\x00\\x00\\x00\\x8e\\x00\\x00\\x00\\x00\\x00\\x00\\x00': array([0., 0., 0., 0., 0., 0., 0., 0., 0., 0., 0., 0., 0., 0., 0., 0., 0.,\n        0., 0., 0., 0., 0., 0., 1., 0., 0., 0., 0., 0., 0., 0., 0., 0., 0.,\n        0., 0., 0., 0., 0., 0., 0., 0., 0., 0., 0., 0., 0., 0., 0., 0., 0.,\n        0., 0., 0., 0., 0., 0., 0., 0.]),\n b'&\\x00\\x00\\x00\\x00\\x00\\x00\\x00\\x7f\\x00\\x00\\x00\\x00\\x00\\x00\\x00\\x8e\\x00\\x00\\x00\\x00\\x00\\x00\\x00': array([0., 0., 0., 0., 0., 0., 0., 0., 0., 0., 0., 0., 0., 0., 0., 0., 0.,\n        0., 0., 0., 0., 0., 0., 0., 1., 0., 0., 0., 0., 0., 0., 0., 0., 0.,\n        0., 0., 0., 0., 0., 0., 0., 0., 0., 0., 0., 0., 0., 0., 0., 0., 0.,\n        0., 0., 0., 0., 0., 0., 0., 0.]),\n b'$\\x00\\x00\\x00\\x00\\x00\\x00\\x00\\x84\\x00\\x00\\x00\\x00\\x00\\x00\\x00\\x8d\\x00\\x00\\x00\\x00\\x00\\x00\\x00': array([0., 0., 0., 0., 0., 0., 0., 0., 0., 0., 0., 0., 0., 0., 0., 0., 0.,\n        0., 0., 0., 0., 0., 0., 0., 0., 1., 0., 0., 0., 0., 0., 0., 0., 0.,\n        0., 0., 0., 0., 0., 0., 0., 0., 0., 0., 0., 0., 0., 0., 0., 0., 0.,\n        0., 0., 0., 0., 0., 0., 0., 0.]),\n b'#\\x00\\x00\\x00\\x00\\x00\\x00\\x00\\x88\\x00\\x00\\x00\\x00\\x00\\x00\\x00\\x8d\\x00\\x00\\x00\\x00\\x00\\x00\\x00': array([0., 0., 0., 0., 0., 0., 0., 0., 0., 0., 0., 0., 0., 0., 0., 0., 0.,\n        0., 0., 0., 0., 0., 0., 0., 0., 0., 1., 0., 0., 0., 0., 0., 0., 0.,\n        0., 0., 0., 0., 0., 0., 0., 0., 0., 0., 0., 0., 0., 0., 0., 0., 0.,\n        0., 0., 0., 0., 0., 0., 0., 0.]),\n b'\"\\x00\\x00\\x00\\x00\\x00\\x00\\x00\\x8b\\x00\\x00\\x00\\x00\\x00\\x00\\x00\\x8d\\x00\\x00\\x00\\x00\\x00\\x00\\x00': array([0., 0., 0., 0., 0., 0., 0., 0., 0., 0., 0., 0., 0., 0., 0., 0., 0.,\n        0., 0., 0., 0., 0., 0., 0., 0., 0., 0., 1., 0., 0., 0., 0., 0., 0.,\n        0., 0., 0., 0., 0., 0., 0., 0., 0., 0., 0., 0., 0., 0., 0., 0., 0.,\n        0., 0., 0., 0., 0., 0., 0., 0.]),\n b' \\x00\\x00\\x00\\x00\\x00\\x00\\x00\\x90\\x00\\x00\\x00\\x00\\x00\\x00\\x00\\x8c\\x00\\x00\\x00\\x00\\x00\\x00\\x00': array([0., 0., 0., 0., 0., 0., 0., 0., 0., 0., 0., 0., 0., 0., 0., 0., 0.,\n        0., 0., 0., 0., 0., 0., 0., 0., 0., 0., 0., 1., 0., 0., 0., 0., 0.,\n        0., 0., 0., 0., 0., 0., 0., 0., 0., 0., 0., 0., 0., 0., 0., 0., 0.,\n        0., 0., 0., 0., 0., 0., 0., 0.]),\n b'\\x1f\\x00\\x00\\x00\\x00\\x00\\x00\\x00\\x94\\x00\\x00\\x00\\x00\\x00\\x00\\x00\\x8b\\x00\\x00\\x00\\x00\\x00\\x00\\x00': array([0., 0., 0., 0., 0., 0., 0., 0., 0., 0., 0., 0., 0., 0., 0., 0., 0.,\n        0., 0., 0., 0., 0., 0., 0., 0., 0., 0., 0., 0., 0., 1., 0., 0., 0.,\n        0., 0., 0., 0., 0., 0., 0., 0., 0., 0., 0., 0., 0., 0., 0., 0., 0.,\n        0., 0., 0., 0., 0., 0., 0., 0.]),\n b'\\x1e\\x00\\x00\\x00\\x00\\x00\\x00\\x00\\x98\\x00\\x00\\x00\\x00\\x00\\x00\\x00\\x8a\\x00\\x00\\x00\\x00\\x00\\x00\\x00': array([0., 0., 0., 0., 0., 0., 0., 0., 0., 0., 0., 0., 0., 0., 0., 0., 0.,\n        0., 0., 0., 0., 0., 0., 0., 0., 0., 0., 0., 0., 0., 0., 1., 0., 0.,\n        0., 0., 0., 0., 0., 0., 0., 0., 0., 0., 0., 0., 0., 0., 0., 0., 0.,\n        0., 0., 0., 0., 0., 0., 0., 0.]),\n b'\\x1e\\x00\\x00\\x00\\x00\\x00\\x00\\x00\\x9b\\x00\\x00\\x00\\x00\\x00\\x00\\x00\\x89\\x00\\x00\\x00\\x00\\x00\\x00\\x00': array([0., 0., 0., 0., 0., 0., 0., 0., 0., 0., 0., 0., 0., 0., 0., 0., 0.,\n        0., 0., 0., 0., 0., 0., 0., 0., 0., 0., 0., 0., 0., 0., 0., 1., 0.,\n        0., 0., 0., 0., 0., 0., 0., 0., 0., 0., 0., 0., 0., 0., 0., 0., 0.,\n        0., 0., 0., 0., 0., 0., 0., 0.]),\n b'\\x1e\\x00\\x00\\x00\\x00\\x00\\x00\\x00\\xa0\\x00\\x00\\x00\\x00\\x00\\x00\\x00\\x87\\x00\\x00\\x00\\x00\\x00\\x00\\x00': array([0., 0., 0., 0., 0., 0., 0., 0., 0., 0., 0., 0., 0., 0., 0., 0., 0.,\n        0., 0., 0., 0., 0., 0., 0., 0., 0., 0., 0., 0., 0., 0., 0., 0., 1.,\n        0., 0., 0., 0., 0., 0., 0., 0., 0., 0., 0., 0., 0., 0., 0., 0., 0.,\n        0., 0., 0., 0., 0., 0., 0., 0.]),\n b' \\x00\\x00\\x00\\x00\\x00\\x00\\x00\\xa4\\x00\\x00\\x00\\x00\\x00\\x00\\x00\\x85\\x00\\x00\\x00\\x00\\x00\\x00\\x00': array([0., 0., 0., 0., 0., 0., 0., 0., 0., 0., 0., 0., 0., 0., 0., 0., 0.,\n        0., 0., 0., 0., 0., 0., 0., 0., 0., 0., 0., 0., 0., 0., 0., 0., 0.,\n        1., 0., 0., 0., 0., 0., 0., 0., 0., 0., 0., 0., 0., 0., 0., 0., 0.,\n        0., 0., 0., 0., 0., 0., 0., 0.]),\n b'\"\\x00\\x00\\x00\\x00\\x00\\x00\\x00\\xa7\\x00\\x00\\x00\\x00\\x00\\x00\\x00\\x84\\x00\\x00\\x00\\x00\\x00\\x00\\x00': array([0., 0., 0., 0., 0., 0., 0., 0., 0., 0., 0., 0., 0., 0., 0., 0., 0.,\n        0., 0., 0., 0., 0., 0., 0., 0., 0., 0., 0., 0., 0., 0., 0., 0., 0.,\n        0., 1., 0., 0., 0., 0., 0., 0., 0., 0., 0., 0., 0., 0., 0., 0., 0.,\n        0., 0., 0., 0., 0., 0., 0., 0.]),\n b'%\\x00\\x00\\x00\\x00\\x00\\x00\\x00\\xab\\x00\\x00\\x00\\x00\\x00\\x00\\x00\\x81\\x00\\x00\\x00\\x00\\x00\\x00\\x00': array([0., 0., 0., 0., 0., 0., 0., 0., 0., 0., 0., 0., 0., 0., 0., 0., 0.,\n        0., 0., 0., 0., 0., 0., 0., 0., 0., 0., 0., 0., 0., 0., 0., 0., 0.,\n        0., 0., 1., 0., 0., 0., 0., 0., 0., 0., 0., 0., 0., 0., 0., 0., 0.,\n        0., 0., 0., 0., 0., 0., 0., 0.]),\n b'*\\x00\\x00\\x00\\x00\\x00\\x00\\x00\\xb0\\x00\\x00\\x00\\x00\\x00\\x00\\x00~\\x00\\x00\\x00\\x00\\x00\\x00\\x00': array([0., 0., 0., 0., 0., 0., 0., 0., 0., 0., 0., 0., 0., 0., 0., 0., 0.,\n        0., 0., 0., 0., 0., 0., 0., 0., 0., 0., 0., 0., 0., 0., 0., 0., 0.,\n        0., 0., 0., 1., 0., 0., 0., 0., 0., 0., 0., 0., 0., 0., 0., 0., 0.,\n        0., 0., 0., 0., 0., 0., 0., 0.]),\n b'/\\x00\\x00\\x00\\x00\\x00\\x00\\x00\\xb3\\x00\\x00\\x00\\x00\\x00\\x00\\x00{\\x00\\x00\\x00\\x00\\x00\\x00\\x00': array([0., 0., 0., 0., 0., 0., 0., 0., 0., 0., 0., 0., 0., 0., 0., 0., 0.,\n        0., 0., 0., 0., 0., 0., 0., 0., 0., 0., 0., 0., 0., 0., 0., 0., 0.,\n        0., 0., 0., 0., 1., 0., 0., 0., 0., 0., 0., 0., 0., 0., 0., 0., 0.,\n        0., 0., 0., 0., 0., 0., 0., 0.]),\n b'5\\x00\\x00\\x00\\x00\\x00\\x00\\x00\\xb7\\x00\\x00\\x00\\x00\\x00\\x00\\x00x\\x00\\x00\\x00\\x00\\x00\\x00\\x00': array([0., 0., 0., 0., 0., 0., 0., 0., 0., 0., 0., 0., 0., 0., 0., 0., 0.,\n        0., 0., 0., 0., 0., 0., 0., 0., 0., 0., 0., 0., 0., 0., 0., 0., 0.,\n        0., 0., 0., 0., 0., 1., 0., 0., 0., 0., 0., 0., 0., 0., 0., 0., 0.,\n        0., 0., 0., 0., 0., 0., 0., 0.]),\n b';\\x00\\x00\\x00\\x00\\x00\\x00\\x00\\xba\\x00\\x00\\x00\\x00\\x00\\x00\\x00u\\x00\\x00\\x00\\x00\\x00\\x00\\x00': array([0., 0., 0., 0., 0., 0., 0., 0., 0., 0., 0., 0., 0., 0., 0., 0., 0.,\n        0., 0., 0., 0., 0., 0., 0., 0., 0., 0., 0., 0., 0., 0., 0., 0., 0.,\n        0., 0., 0., 0., 0., 0., 1., 0., 0., 0., 0., 0., 0., 0., 0., 0., 0.,\n        0., 0., 0., 0., 0., 0., 0., 0.]),\n b'D\\x00\\x00\\x00\\x00\\x00\\x00\\x00\\xbe\\x00\\x00\\x00\\x00\\x00\\x00\\x00p\\x00\\x00\\x00\\x00\\x00\\x00\\x00': array([0., 0., 0., 0., 0., 0., 0., 0., 0., 0., 0., 0., 0., 0., 0., 0., 0.,\n        0., 0., 0., 0., 0., 0., 0., 0., 0., 0., 0., 0., 0., 0., 0., 0., 0.,\n        0., 0., 0., 0., 0., 0., 0., 1., 0., 0., 0., 0., 0., 0., 0., 0., 0.,\n        0., 0., 0., 0., 0., 0., 0., 0.]),\n b'K\\x00\\x00\\x00\\x00\\x00\\x00\\x00\\xc2\\x00\\x00\\x00\\x00\\x00\\x00\\x00l\\x00\\x00\\x00\\x00\\x00\\x00\\x00': array([0., 0., 0., 0., 0., 0., 0., 0., 0., 0., 0., 0., 0., 0., 0., 0., 0.,\n        0., 0., 0., 0., 0., 0., 0., 0., 0., 0., 0., 0., 0., 0., 0., 0., 0.,\n        0., 0., 0., 0., 0., 0., 0., 0., 1., 0., 0., 0., 0., 0., 0., 0., 0.,\n        0., 0., 0., 0., 0., 0., 0., 0.]),\n b'S\\x00\\x00\\x00\\x00\\x00\\x00\\x00\\xc5\\x00\\x00\\x00\\x00\\x00\\x00\\x00g\\x00\\x00\\x00\\x00\\x00\\x00\\x00': array([0., 0., 0., 0., 0., 0., 0., 0., 0., 0., 0., 0., 0., 0., 0., 0., 0.,\n        0., 0., 0., 0., 0., 0., 0., 0., 0., 0., 0., 0., 0., 0., 0., 0., 0.,\n        0., 0., 0., 0., 0., 0., 0., 0., 0., 1., 0., 0., 0., 0., 0., 0., 0.,\n        0., 0., 0., 0., 0., 0., 0., 0.]),\n b'^\\x00\\x00\\x00\\x00\\x00\\x00\\x00\\xc9\\x00\\x00\\x00\\x00\\x00\\x00\\x00a\\x00\\x00\\x00\\x00\\x00\\x00\\x00': array([0., 0., 0., 0., 0., 0., 0., 0., 0., 0., 0., 0., 0., 0., 0., 0., 0.,\n        0., 0., 0., 0., 0., 0., 0., 0., 0., 0., 0., 0., 0., 0., 0., 0., 0.,\n        0., 0., 0., 0., 0., 0., 0., 0., 0., 0., 1., 0., 0., 0., 0., 0., 0.,\n        0., 0., 0., 0., 0., 0., 0., 0.]),\n b'g\\x00\\x00\\x00\\x00\\x00\\x00\\x00\\xcc\\x00\\x00\\x00\\x00\\x00\\x00\\x00\\\\\\x00\\x00\\x00\\x00\\x00\\x00\\x00': array([0., 0., 0., 0., 0., 0., 0., 0., 0., 0., 0., 0., 0., 0., 0., 0., 0.,\n        0., 0., 0., 0., 0., 0., 0., 0., 0., 0., 0., 0., 0., 0., 0., 0., 0.,\n        0., 0., 0., 0., 0., 0., 0., 0., 0., 0., 0., 1., 0., 0., 0., 0., 0.,\n        0., 0., 0., 0., 0., 0., 0., 0.]),\n b'p\\x00\\x00\\x00\\x00\\x00\\x00\\x00\\xce\\x00\\x00\\x00\\x00\\x00\\x00\\x00V\\x00\\x00\\x00\\x00\\x00\\x00\\x00': array([0., 0., 0., 0., 0., 0., 0., 0., 0., 0., 0., 0., 0., 0., 0., 0., 0.,\n        0., 0., 0., 0., 0., 0., 0., 0., 0., 0., 0., 0., 0., 0., 0., 0., 0.,\n        0., 0., 0., 0., 0., 0., 0., 0., 0., 0., 0., 0., 1., 0., 0., 0., 0.,\n        0., 0., 0., 0., 0., 0., 0., 0.]),\n b'y\\x00\\x00\\x00\\x00\\x00\\x00\\x00\\xd1\\x00\\x00\\x00\\x00\\x00\\x00\\x00Q\\x00\\x00\\x00\\x00\\x00\\x00\\x00': array([0., 0., 0., 0., 0., 0., 0., 0., 0., 0., 0., 0., 0., 0., 0., 0., 0.,\n        0., 0., 0., 0., 0., 0., 0., 0., 0., 0., 0., 0., 0., 0., 0., 0., 0.,\n        0., 0., 0., 0., 0., 0., 0., 0., 0., 0., 0., 0., 0., 1., 0., 0., 0.,\n        0., 0., 0., 0., 0., 0., 0., 0.]),\n b'\\x86\\x00\\x00\\x00\\x00\\x00\\x00\\x00\\xd4\\x00\\x00\\x00\\x00\\x00\\x00\\x00I\\x00\\x00\\x00\\x00\\x00\\x00\\x00': array([0., 0., 0., 0., 0., 0., 0., 0., 0., 0., 0., 0., 0., 0., 0., 0., 0.,\n        0., 0., 0., 0., 0., 0., 0., 0., 0., 0., 0., 0., 0., 0., 0., 0., 0.,\n        0., 0., 0., 0., 0., 0., 0., 0., 0., 0., 0., 0., 0., 0., 1., 0., 0.,\n        0., 0., 0., 0., 0., 0., 0., 0.]),\n b'\\x90\\x00\\x00\\x00\\x00\\x00\\x00\\x00\\xd6\\x00\\x00\\x00\\x00\\x00\\x00\\x00C\\x00\\x00\\x00\\x00\\x00\\x00\\x00': array([0., 0., 0., 0., 0., 0., 0., 0., 0., 0., 0., 0., 0., 0., 0., 0., 0.,\n        0., 0., 0., 0., 0., 0., 0., 0., 0., 0., 0., 0., 0., 0., 0., 0., 0.,\n        0., 0., 0., 0., 0., 0., 0., 0., 0., 0., 0., 0., 0., 0., 0., 1., 0.,\n        0., 0., 0., 0., 0., 0., 0., 0.]),\n b'\\x9a\\x00\\x00\\x00\\x00\\x00\\x00\\x00\\xd8\\x00\\x00\\x00\\x00\\x00\\x00\\x00<\\x00\\x00\\x00\\x00\\x00\\x00\\x00': array([0., 0., 0., 0., 0., 0., 0., 0., 0., 0., 0., 0., 0., 0., 0., 0., 0.,\n        0., 0., 0., 0., 0., 0., 0., 0., 0., 0., 0., 0., 0., 0., 0., 0., 0.,\n        0., 0., 0., 0., 0., 0., 0., 0., 0., 0., 0., 0., 0., 0., 0., 0., 1.,\n        0., 0., 0., 0., 0., 0., 0., 0.]),\n b'\\xa5\\x00\\x00\\x00\\x00\\x00\\x00\\x00\\xda\\x00\\x00\\x00\\x00\\x00\\x00\\x005\\x00\\x00\\x00\\x00\\x00\\x00\\x00': array([0., 0., 0., 0., 0., 0., 0., 0., 0., 0., 0., 0., 0., 0., 0., 0., 0.,\n        0., 0., 0., 0., 0., 0., 0., 0., 0., 0., 0., 0., 0., 0., 0., 0., 0.,\n        0., 0., 0., 0., 0., 0., 0., 0., 0., 0., 0., 0., 0., 0., 0., 0., 0.,\n        1., 0., 0., 0., 0., 0., 0., 0.]),\n b'\\xb2\\x00\\x00\\x00\\x00\\x00\\x00\\x00\\xdd\\x00\\x00\\x00\\x00\\x00\\x00\\x00,\\x00\\x00\\x00\\x00\\x00\\x00\\x00': array([0., 0., 0., 0., 0., 0., 0., 0., 0., 0., 0., 0., 0., 0., 0., 0., 0.,\n        0., 0., 0., 0., 0., 0., 0., 0., 0., 0., 0., 0., 0., 0., 0., 0., 0.,\n        0., 0., 0., 0., 0., 0., 0., 0., 0., 0., 0., 0., 0., 0., 0., 0., 0.,\n        0., 1., 0., 0., 0., 0., 0., 0.]),\n b'\\xbd\\x00\\x00\\x00\\x00\\x00\\x00\\x00\\xde\\x00\\x00\\x00\\x00\\x00\\x00\\x00&\\x00\\x00\\x00\\x00\\x00\\x00\\x00': array([0., 0., 0., 0., 0., 0., 0., 0., 0., 0., 0., 0., 0., 0., 0., 0., 0.,\n        0., 0., 0., 0., 0., 0., 0., 0., 0., 0., 0., 0., 0., 0., 0., 0., 0.,\n        0., 0., 0., 0., 0., 0., 0., 0., 0., 0., 0., 0., 0., 0., 0., 0., 0.,\n        0., 0., 1., 0., 0., 0., 0., 0.]),\n b'\\xc7\\x00\\x00\\x00\\x00\\x00\\x00\\x00\\xe0\\x00\\x00\\x00\\x00\\x00\\x00\\x00\\x1f\\x00\\x00\\x00\\x00\\x00\\x00\\x00': array([0., 0., 0., 0., 0., 0., 0., 0., 0., 0., 0., 0., 0., 0., 0., 0., 0.,\n        0., 0., 0., 0., 0., 0., 0., 0., 0., 0., 0., 0., 0., 0., 0., 0., 0.,\n        0., 0., 0., 0., 0., 0., 0., 0., 0., 0., 0., 0., 0., 0., 0., 0., 0.,\n        0., 0., 0., 1., 0., 0., 0., 0.]),\n b'\\xd2\\x00\\x00\\x00\\x00\\x00\\x00\\x00\\xe1\\x00\\x00\\x00\\x00\\x00\\x00\\x00\\x1b\\x00\\x00\\x00\\x00\\x00\\x00\\x00': array([0., 0., 0., 0., 0., 0., 0., 0., 0., 0., 0., 0., 0., 0., 0., 0., 0.,\n        0., 0., 0., 0., 0., 0., 0., 0., 0., 0., 0., 0., 0., 0., 0., 0., 0.,\n        0., 0., 0., 0., 0., 0., 0., 0., 0., 0., 0., 0., 0., 0., 0., 0., 0.,\n        0., 0., 0., 0., 1., 0., 0., 0.]),\n b'\\xdf\\x00\\x00\\x00\\x00\\x00\\x00\\x00\\xe3\\x00\\x00\\x00\\x00\\x00\\x00\\x00\\x18\\x00\\x00\\x00\\x00\\x00\\x00\\x00': array([0., 0., 0., 0., 0., 0., 0., 0., 0., 0., 0., 0., 0., 0., 0., 0., 0.,\n        0., 0., 0., 0., 0., 0., 0., 0., 0., 0., 0., 0., 0., 0., 0., 0., 0.,\n        0., 0., 0., 0., 0., 0., 0., 0., 0., 0., 0., 0., 0., 0., 0., 0., 0.,\n        0., 0., 0., 0., 0., 1., 0., 0.]),\n b'\\xe9\\x00\\x00\\x00\\x00\\x00\\x00\\x00\\xe4\\x00\\x00\\x00\\x00\\x00\\x00\\x00\\x19\\x00\\x00\\x00\\x00\\x00\\x00\\x00': array([0., 0., 0., 0., 0., 0., 0., 0., 0., 0., 0., 0., 0., 0., 0., 0., 0.,\n        0., 0., 0., 0., 0., 0., 0., 0., 0., 0., 0., 0., 0., 0., 0., 0., 0.,\n        0., 0., 0., 0., 0., 0., 0., 0., 0., 0., 0., 0., 0., 0., 0., 0., 0.,\n        0., 0., 0., 0., 0., 0., 1., 0.]),\n b'\\xf3\\x00\\x00\\x00\\x00\\x00\\x00\\x00\\xe5\\x00\\x00\\x00\\x00\\x00\\x00\\x00\\x1e\\x00\\x00\\x00\\x00\\x00\\x00\\x00': array([0., 0., 0., 0., 0., 0., 0., 0., 0., 0., 0., 0., 0., 0., 0., 0., 0.,\n        0., 0., 0., 0., 0., 0., 0., 0., 0., 0., 0., 0., 0., 0., 0., 0., 0.,\n        0., 0., 0., 0., 0., 0., 0., 0., 0., 0., 0., 0., 0., 0., 0., 0., 0.,\n        0., 0., 0., 0., 0., 0., 0., 1.])}"
     },
     "execution_count": 303,
     "metadata": {},
     "output_type": "execute_result"
    }
   ],
   "source": [
    "print(encoded_df[\"array_value\"].iloc[0].dtype)\n",
    "encoded_df[\"byte_value\"] = encoded_df[\"array_value\"].apply(lambda x: x.tobytes())\n",
    "\n",
    "array_to_onehot = encoded_df[[\"byte_value\", \"One-hot\"]].set_index('byte_value').to_dict()[\"One-hot\"]\n",
    "array_to_onehot"
   ],
   "metadata": {
    "collapsed": false,
    "ExecuteTime": {
     "end_time": "2023-11-12T22:36:56.144991100Z",
     "start_time": "2023-11-12T22:36:56.116391600Z"
    }
   },
   "id": "e2fee86abfb111a8"
  },
  {
   "cell_type": "code",
   "execution_count": 313,
   "outputs": [
    {
     "name": "stdout",
     "output_type": "stream",
     "text": [
      "(832, 550, 59)\n"
     ]
    }
   ],
   "source": [
    "import numpy as np\n",
    "\n",
    "label = CustomClothingDataset(DATASET_DIR, transform=False).__getitem__(0)[1]\n",
    "\n",
    "print(np.apply_along_axis(lambda pixel: array_to_onehot[pixel.tobytes()], 2, label).shape)\n"
   ],
   "metadata": {
    "collapsed": false,
    "ExecuteTime": {
     "end_time": "2023-11-12T22:44:59.591786900Z",
     "start_time": "2023-11-12T22:44:59.209755600Z"
    }
   },
   "id": "79ab366ad820e895"
  },
  {
   "cell_type": "markdown",
   "source": [
    "Ahora en lugar de tener para cada pixel RGB, tenemos su codificación en one hot de las 59 clases posibles que puede representar."
   ],
   "metadata": {
    "collapsed": false
   },
   "id": "70745dfd3ae72768"
  },
  {
   "cell_type": "code",
   "execution_count": 215,
   "outputs": [
    {
     "data": {
      "text/plain": "array([[[69,  6, 90],\n        [69,  6, 90],\n        [69,  6, 90],\n        ...,\n        [69,  6, 90],\n        [69,  6, 90],\n        [69,  6, 90]],\n\n       [[69,  6, 90],\n        [69,  6, 90],\n        [69,  6, 90],\n        ...,\n        [69,  6, 90],\n        [69,  6, 90],\n        [69,  6, 90]],\n\n       [[69,  6, 90],\n        [69,  6, 90],\n        [69,  6, 90],\n        ...,\n        [69,  6, 90],\n        [69,  6, 90],\n        [69,  6, 90]],\n\n       ...,\n\n       [[69,  6, 90],\n        [69,  6, 90],\n        [69,  6, 90],\n        ...,\n        [69,  6, 90],\n        [69,  6, 90],\n        [69,  6, 90]],\n\n       [[69,  6, 90],\n        [69,  6, 90],\n        [69,  6, 90],\n        ...,\n        [69,  6, 90],\n        [69,  6, 90],\n        [69,  6, 90]],\n\n       [[69,  6, 90],\n        [69,  6, 90],\n        [69,  6, 90],\n        ...,\n        [69,  6, 90],\n        [69,  6, 90],\n        [69,  6, 90]]], dtype=uint8)"
     },
     "execution_count": 215,
     "metadata": {},
     "output_type": "execute_result"
    }
   ],
   "source": [
    "np.asarray(Image.open(\"./data/labels/pixel_level_labels_colored/0001.png\"))"
   ],
   "metadata": {
    "collapsed": false,
    "ExecuteTime": {
     "end_time": "2023-11-12T19:47:55.619629100Z",
     "start_time": "2023-11-12T19:47:55.595613Z"
    }
   },
   "id": "ad58c31cd1e1d234"
  },
  {
   "cell_type": "markdown",
   "source": [],
   "metadata": {
    "collapsed": false
   },
   "id": "b8988b9807a233ca"
  },
  {
   "cell_type": "code",
   "execution_count": 212,
   "outputs": [
    {
     "name": "stdout",
     "output_type": "stream",
     "text": [
      "Cantidad de imágenes:  1004\n",
      "./data/labels/pixel_level_labels_colored\\0928.png\n",
      "./data/labels/pixel_level_labels_colored\\0808.png\n",
      "./data/labels/pixel_level_labels_colored\\0899.png\n",
      "./data/labels/pixel_level_labels_colored\\0566.png\n",
      "./data/labels/pixel_level_labels_colored\\0273.png\n",
      "./data/labels/pixel_level_labels_colored\\0444.png\n",
      "./data/labels/pixel_level_labels_colored\\0608.png\n",
      "./data/labels/pixel_level_labels_colored\\0698.png\n",
      "./data/labels/pixel_level_labels_colored\\0245.png\n",
      "./data/labels/pixel_level_labels_colored\\0292.png\n",
      "./data/labels/pixel_level_labels_colored\\0106.png\n",
      "./data/labels/pixel_level_labels_colored\\0623.png\n",
      "./data/labels/pixel_level_labels_colored\\0783.png\n",
      "./data/labels/pixel_level_labels_colored\\0810.png\n",
      "./data/labels/pixel_level_labels_colored\\0955.png\n",
      "./data/labels/pixel_level_labels_colored\\0457.png\n",
      "./data/labels/pixel_level_labels_colored\\0371.png\n",
      "./data/labels/pixel_level_labels_colored\\0334.png\n",
      "./data/labels/pixel_level_labels_colored\\0315.png\n",
      "./data/labels/pixel_level_labels_colored\\0841.png\n",
      "./data/labels/pixel_level_labels_colored\\0219.png\n",
      "./data/labels/pixel_level_labels_colored\\0471.png\n",
      "./data/labels/pixel_level_labels_colored\\0745.png\n",
      "./data/labels/pixel_level_labels_colored\\0502.png\n",
      "./data/labels/pixel_level_labels_colored\\0100.png\n",
      "./data/labels/pixel_level_labels_colored\\0191.png\n",
      "./data/labels/pixel_level_labels_colored\\0634.png\n",
      "./data/labels/pixel_level_labels_colored\\0356.png\n",
      "./data/labels/pixel_level_labels_colored\\0358.png\n",
      "./data/labels/pixel_level_labels_colored\\0397.png\n",
      "./data/labels/pixel_level_labels_colored\\0703.png\n",
      "./data/labels/pixel_level_labels_colored\\0242.png\n"
     ]
    },
    {
     "name": "stderr",
     "output_type": "stream",
     "text": [
      "Clipping input data to the valid range for imshow with RGB data ([0..1] for floats or [0..255] for integers).\n",
      "Clipping input data to the valid range for imshow with RGB data ([0..1] for floats or [0..255] for integers).\n"
     ]
    },
    {
     "data": {
      "text/plain": "<Figure size 1000x500 with 2 Axes>",
      "image/png": "[encoded data removed]"
     },
     "metadata": {},
     "output_type": "display_data"
    }
   ],
   "source": [
    "from matplotlib import pyplot as plt\n",
    "import numpy as np\n",
    "from torch.utils.data import DataLoader\n",
    "\n",
    "dataset = CustomClothingDataset(root_dir=DATASET_DIR)\n",
    "data_loader = DataLoader(dataset, batch_size=BATCH_SIZE, shuffle=True)\n",
    "print(\"Cantidad de imágenes: \", len(data_loader.dataset))\n",
    "for image, label in data_loader:\n",
    "    plt.figure(figsize=(10, 5))\n",
    "    plt.subplot(1, 2, 1)\n",
    "    plt.imshow(np.transpose(label[0].int(), (1, 2, 0)))\n",
    "    plt.subplot(1, 2, 2)\n",
    "    plt.imshow(np.transpose(image[0].int(), (1, 2, 0)))\n",
    "    plt.show()\n",
    "    break"
   ],
   "metadata": {
    "collapsed": false,
    "ExecuteTime": {
     "end_time": "2023-11-12T19:47:14.261898300Z",
     "start_time": "2023-11-12T19:47:13.113882900Z"
    }
   },
   "id": "e580ead06defbd57"
  },
  {
   "cell_type": "markdown",
   "source": [
    "## Implementación 1\n",
    "### Modelo U-NET"
   ],
   "metadata": {
    "collapsed": false
   },
   "id": "ccef30cdc5a76808"
  },
  {
   "cell_type": "markdown",
   "source": [
    "Creación del modelo:"
   ],
   "metadata": {
    "collapsed": false
   },
   "id": "d6e82c4aee2cd875"
  },
  {
   "cell_type": "markdown",
   "source": [
    "! Arreglar el problema de HorizontalFlip()"
   ],
   "metadata": {
    "collapsed": false
   },
   "id": "81e42fefda8ba3ad"
  },
  {
   "cell_type": "markdown",
   "source": [
    "Hay que coger imagenes con el mismo grosor y altura para meterlos como input en la u-net, no vale `877x550` sino al mejor `560x560` para evitar coger el mayor porque puede generar ruido en la imagen, y tambien porque ese valor es divisible por 2 para pooling y unpooling, se prefiere compactarlo que generar ruido."
   ],
   "metadata": {
    "collapsed": false
   },
   "id": "ff158ffb5b623177"
  },
  {
   "cell_type": "code",
   "execution_count": null,
   "outputs": [],
   "source": [
    "import torch\n",
    "import torch.nn as nn\n",
    "\n",
    "\"\"\" Convolutional block:\n",
    "    It follows a two 3x3 convolutional layer, each followed by a batch normalization and a relu activation.\n",
    "\"\"\"\n",
    "class conv_block(nn.Module):\n",
    "    def __init__(self, in_c, out_c):\n",
    "        super().__init__()\n",
    "\n",
    "        self.conv1 = nn.Conv2d(in_c, out_c, kernel_size=3, padding=1)\n",
    "        self.bn1 = nn.BatchNorm2d(out_c)\n",
    "\n",
    "        self.conv2 = nn.Conv2d(out_c, out_c, kernel_size=3, padding=1)\n",
    "        self.bn2 = nn.BatchNorm2d(out_c)\n",
    "\n",
    "        self.relu = nn.ReLU()\n",
    "\n",
    "    def forward(self, inputs):\n",
    "        x = self.conv1(inputs)\n",
    "        x = self.bn1(x)\n",
    "        x = self.relu(x)\n",
    "\n",
    "        x = self.conv2(x)\n",
    "        x = self.bn2(x)\n",
    "        x = self.relu(x)\n",
    "\n",
    "        return x\n",
    "\n",
    "\"\"\" Encoder block:\n",
    "    It consists of an conv_block followed by a max pooling.\n",
    "    Here the number of filters doubles and the height and width half after every block.\n",
    "\"\"\"\n",
    "class encoder_block(nn.Module):\n",
    "    def __init__(self, in_c, out_c):\n",
    "        super().__init__()\n",
    "\n",
    "        self.conv = conv_block(in_c, out_c)\n",
    "        self.pool = nn.MaxPool2d((2, 2))\n",
    "\n",
    "    def forward(self, inputs):\n",
    "        x = self.conv(inputs)\n",
    "        p = self.pool(x)\n",
    "\n",
    "        return x, p\n",
    "\n",
    "\"\"\" Decoder block:\n",
    "    The decoder block begins with a transpose convolution, followed by a concatenation with the skip\n",
    "    connection from the encoder block. Next comes the conv_block.\n",
    "    Here the number filters decreases by half and the height and width doubles.\n",
    "\"\"\"\n",
    "class decoder_block(nn.Module):\n",
    "    def __init__(self, in_c, out_c):\n",
    "        super().__init__()\n",
    "\n",
    "        self.up = nn.ConvTranspose2d(in_c, out_c, kernel_size=2, stride=2, padding=0)\n",
    "        self.conv = conv_block(out_c+out_c, out_c)\n",
    "\n",
    "    def forward(self, inputs, skip):\n",
    "        x = self.up(inputs)\n",
    "        x = torch.cat([x, skip], axis=1)\n",
    "        x = self.conv(x)\n",
    "\n",
    "        return x\n",
    "\n",
    "\n",
    "class build_unet(nn.Module):\n",
    "    def __init__(self):\n",
    "        super().__init__()\n",
    "\n",
    "        \"\"\" Encoder \"\"\"\n",
    "        self.e1 = encoder_block(3, 70)\n",
    "        self.e2 = encoder_block(70, 140)\n",
    "        self.e3 = encoder_block(140, 280)\n",
    "        self.e4 = encoder_block(280, 560)\n",
    "\n",
    "        \"\"\" Bottleneck \"\"\"\n",
    "        self.b = conv_block(560, 1120)\n",
    "\n",
    "        \"\"\" Decoder \"\"\"\n",
    "        self.d1 = decoder_block(1120, 560)\n",
    "        self.d2 = decoder_block(560, 280)\n",
    "        self.d3 = decoder_block(280, 140)\n",
    "        self.d4 = decoder_block(140, 70)\n",
    "\n",
    "        \"\"\" Classifier \"\"\"\n",
    "        self.outputs = nn.Conv2d(70, 1, kernel_size=1, padding=0)\n",
    "\n",
    "    def forward(self, inputs):\n",
    "        \"\"\" Encoder \"\"\"\n",
    "        s1, p1 = self.e1(inputs)\n",
    "        s2, p2 = self.e2(p1)\n",
    "        s3, p3 = self.e3(p2)\n",
    "        s4, p4 = self.e4(p3)\n",
    "\n",
    "        \"\"\" Bottleneck \"\"\"\n",
    "        b = self.b(p4)\n",
    "\n",
    "        \"\"\" Decoder \"\"\"\n",
    "        d1 = self.d1(b, s4)\n",
    "        d2 = self.d2(d1, s3)\n",
    "        d3 = self.d3(d2, s2)\n",
    "        d4 = self.d4(d3, s1)\n",
    "\n",
    "        \"\"\" Classifier \"\"\"\n",
    "        outputs = self.outputs(d4)\n",
    "\n",
    "        return outputs\n",
    "\n",
    "device = torch.device(\"cuda\" if torch.cuda.is_available() else \"cpu\")\n",
    "\n",
    "inputs = torch.randn((2, 3, 560, 560)).to(device)\n",
    "model = build_unet().to(device)\n",
    "y = model(inputs)\n",
    "print(y.shape)"
   ],
   "metadata": {
    "collapsed": false
   },
   "id": "ce3e8157f6850b8a"
  },
  {
   "cell_type": "code",
   "execution_count": null,
   "outputs": [],
   "source": [
    "BATCH_SIZE = 4 #32\n",
    "EPOCHS = 1 #20\n",
    "#IMAGE_SIZE = 560"
   ],
   "metadata": {
    "collapsed": false
   },
   "id": "c1c23f7f7fe8ced6"
  },
  {
   "cell_type": "code",
   "execution_count": null,
   "outputs": [],
   "source": [
    "dataset = CustomClothingDataset(root_dir=DATASET_DIR) # all images resized to 560x560\n",
    "data_loader = DataLoader(dataset, batch_size=BATCH_SIZE, shuffle=True) # applying batches and random"
   ],
   "metadata": {
    "collapsed": false
   },
   "id": "f1b3cf7e640253ed"
  },
  {
   "cell_type": "code",
   "execution_count": null,
   "outputs": [],
   "source": [
    "all_images = []\n",
    "all_segmentations = []\n",
    "\n",
    "for images, segmentations in data_loader:\n",
    "    all_images.append(images)\n",
    "    all_segmentations.append(segmentations)\n",
    "all_images = torch.cat(all_images, dim=0)\n",
    "all_segmentations = torch.cat(all_segmentations, dim=0)"
   ],
   "metadata": {
    "collapsed": false
   },
   "id": "19e33b1c16d8b9a"
  },
  {
   "cell_type": "code",
   "execution_count": null,
   "outputs": [],
   "source": [
    "plt.figure(figsize=(10, 5))\n",
    "plt.subplot(1, 2, 1)\n",
    "plt.imshow(np.transpose(all_images[50].int(), (1, 2, 0)))\n",
    "plt.subplot(1, 2, 2)\n",
    "plt.imshow(np.transpose(all_segmentations[50].int(), (1, 2, 0)))\n",
    "plt.show()"
   ],
   "metadata": {
    "collapsed": false
   },
   "id": "417f19956525fe6"
  },
  {
   "cell_type": "code",
   "execution_count": null,
   "outputs": [],
   "source": [
    "print(len(all_images), len(all_segmentations))"
   ],
   "metadata": {
    "collapsed": false
   },
   "id": "75b4cf0e016c050"
  },
  {
   "cell_type": "code",
   "execution_count": null,
   "outputs": [],
   "source": [
    "all_images[0]"
   ],
   "metadata": {
    "collapsed": false
   },
   "id": "efb5b3eb1a937783"
  },
  {
   "cell_type": "code",
   "execution_count": null,
   "outputs": [],
   "source": [
    "total_samples = len(all_images)\n",
    "train_samples = int(0.70 * total_samples)\n",
    "val_samples = test_samples = int(0.15 * total_samples)\n",
    "\n",
    "X_train = all_images[:train_samples]\n",
    "Y_train = all_segmentations[:train_samples]\n",
    "\n",
    "X_val = all_images[train_samples:train_samples + val_samples]\n",
    "Y_val = all_segmentations[train_samples:train_samples + val_samples]\n",
    "\n",
    "X_test = all_images[train_samples + val_samples:]\n",
    "Y_test = all_segmentations[train_samples + val_samples:]"
   ],
   "metadata": {
    "collapsed": false
   },
   "id": "f035381e654c2989"
  },
  {
   "cell_type": "code",
   "execution_count": null,
   "outputs": [],
   "source": [
    "print(len(X_train), len(Y_train))\n",
    "print(len(X_val), len(Y_val))\n",
    "print(len(X_test), len(Y_test))"
   ],
   "metadata": {
    "collapsed": false
   },
   "id": "f799a53baf0e20f0"
  },
  {
   "cell_type": "code",
   "execution_count": null,
   "outputs": [],
   "source": [
    "train_dataset = TensorDataset(X_train, Y_train)\n",
    "validation_dataset = TensorDataset(X_val, Y_val)\n",
    "test_dataset = TensorDataset(X_test, Y_test)\n",
    "\n",
    "train_loader = DataLoader(train_dataset, batch_size=BATCH_SIZE, shuffle=True)\n",
    "val_loader = DataLoader(validation_dataset, batch_size=BATCH_SIZE, shuffle=False)\n",
    "test_loader = DataLoader(test_dataset, batch_size=BATCH_SIZE, shuffle=False)"
   ],
   "metadata": {
    "collapsed": false
   },
   "id": "a932a6ecfa902a5f"
  },
  {
   "cell_type": "code",
   "execution_count": null,
   "outputs": [],
   "source": [
    "criterion = nn.MSELoss()\n",
    "optimizer = torch.optim.Adamax(model.parameters(),\n",
    "                               lr=1e-3,\n",
    "                               weight_decay=1e-5)\n"
   ],
   "metadata": {
    "collapsed": false
   },
   "id": "db30560b5c60f073"
  },
  {
   "cell_type": "code",
   "execution_count": null,
   "outputs": [],
   "source": [
    "# Training loop using train_loader with validation\n",
    "for epoch in range(EPOCHS):\n",
    "    # Training\n",
    "    model.train()  # Set model to training mode\n",
    "    for idx, (images, labels) in enumerate(train_loader):\n",
    "        optimizer.zero_grad()\n",
    "        outputs = model(images.to(device))\n",
    "        loss = criterion(outputs, labels.to(device))\n",
    "        loss.backward()\n",
    "        optimizer.step()\n",
    "\n",
    "    # Validation\n",
    "    model.eval()  # Set model to evaluation mode\n",
    "    total_val_loss = 0\n",
    "    with torch.no_grad():\n",
    "        for idx, (images, labels) in enumerate(val_loader):\n",
    "            outputs = model(images.to(device))\n",
    "            val_loss = criterion(outputs, labels.to(device))\n",
    "            total_val_loss += val_loss.item()\n",
    "\n",
    "    avg_val_loss = total_val_loss / len(val_loader)\n",
    "\n",
    "    print(f'Epoch [{epoch+1}/{EPOCHS}], Train Loss: {loss.item():.4f}, Val Loss: {avg_val_loss:.4f}')\n"
   ],
   "metadata": {
    "collapsed": false
   },
   "id": "9f2bc274227a23c9"
  },
  {
   "cell_type": "markdown",
   "source": [
    "No puedo trabjar usando la CPU, aunque tenga 16GB de RAM, me da DefaultCPUAllocator: not enough memory: you tried to allocate 2809856000 bytes."
   ],
   "metadata": {
    "collapsed": false
   },
   "id": "bfec841aad386dd"
  },
  {
   "cell_type": "code",
   "execution_count": null,
   "outputs": [],
   "source": [
    "# Testing \n",
    "model.eval()\n",
    "total_test_loss = 0\n",
    "with torch.no_grad():\n",
    "    for idx, (images, labels) in enumerate(test_loader):\n",
    "        outputs = model(images.to(device))\n",
    "        test_loss = criterion(outputs, labels.to(device))\n",
    "        total_test_loss += test_loss.item()\n",
    "\n",
    "avg_test_loss = total_test_loss / len(test_loader)\n",
    "print(f'Average Test Loss: {avg_test_loss:.4f}')"
   ],
   "metadata": {
    "collapsed": false
   },
   "id": "8f4986ec6e9d7c88"
  }
 ],
 "metadata": {
  "kernelspec": {
   "display_name": "Python 3",
   "language": "python",
   "name": "python3"
  },
  "language_info": {
   "codemirror_mode": {
    "name": "ipython",
    "version": 2
   },
   "file_extension": ".py",
   "mimetype": "text/x-python",
   "name": "python",
   "nbconvert_exporter": "python",
   "pygments_lexer": "ipython2",
   "version": "2.7.6"
  }
 },
 "nbformat": 4,
 "nbformat_minor": 5
}
